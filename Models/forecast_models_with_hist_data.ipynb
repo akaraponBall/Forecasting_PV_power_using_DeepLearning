{
 "cells": [
  {
   "cell_type": "code",
   "execution_count": 1,
   "id": "5d87f364",
   "metadata": {},
   "outputs": [
    {
     "name": "stderr",
     "output_type": "stream",
     "text": [
      "2024-11-28 15:37:19.057842: I tensorflow/core/util/port.cc:111] oneDNN custom operations are on. You may see slightly different numerical results due to floating-point round-off errors from different computation orders. To turn them off, set the environment variable `TF_ENABLE_ONEDNN_OPTS=0`.\n",
      "2024-11-28 15:37:19.136724: E tensorflow/compiler/xla/stream_executor/cuda/cuda_dnn.cc:9342] Unable to register cuDNN factory: Attempting to register factory for plugin cuDNN when one has already been registered\n",
      "2024-11-28 15:37:19.136784: E tensorflow/compiler/xla/stream_executor/cuda/cuda_fft.cc:609] Unable to register cuFFT factory: Attempting to register factory for plugin cuFFT when one has already been registered\n",
      "2024-11-28 15:37:19.136872: E tensorflow/compiler/xla/stream_executor/cuda/cuda_blas.cc:1518] Unable to register cuBLAS factory: Attempting to register factory for plugin cuBLAS when one has already been registered\n",
      "2024-11-28 15:37:19.164801: I tensorflow/core/platform/cpu_feature_guard.cc:182] This TensorFlow binary is optimized to use available CPU instructions in performance-critical operations.\n",
      "To enable the following instructions: AVX2 AVX_VNNI FMA, in other operations, rebuild TensorFlow with the appropriate compiler flags.\n",
      "2024-11-28 15:37:19.961407: W tensorflow/compiler/tf2tensorrt/utils/py_utils.cc:38] TF-TRT Warning: Could not find TensorRT\n"
     ]
    }
   ],
   "source": [
    "'''\n",
    "Import helper_functions \n",
    "'''\n",
    "from helper_functions import (split_X_y, split_num_cat, forecasting_result, show_scores, APE, plot_histogram, \n",
    "                              fill_na_inf, calculating_kWh, plot_kWh, loss_acc_epochs, plot_pv, \n",
    "                              model_checkpoint, early_stop)"
   ]
  },
  {
   "cell_type": "markdown",
   "id": "0b251ed0",
   "metadata": {},
   "source": [
    "# Import historical dataset"
   ]
  },
  {
   "cell_type": "code",
   "execution_count": 4,
   "id": "753e5cfe",
   "metadata": {
    "tags": []
   },
   "outputs": [
    {
     "data": {
      "text/plain": [
       "(128832, 26)"
      ]
     },
     "execution_count": 4,
     "metadata": {},
     "output_type": "execute_result"
    }
   ],
   "source": [
    "import pandas as pd\n",
    "import numpy as np\n",
    "import seaborn as sns\n",
    "import matplotlib.pyplot as plt\n",
    "import datetime\n",
    "%matplotlib inline\n",
    "\n",
    "original_df = pd.read_csv('../Dataset/hist_data.csv', \n",
    "                 index_col='timestamp_local', encoding='utf-8-sig', parse_dates=['timestamp_local'])\n",
    "\n",
    "original_df.shape"
   ]
  },
  {
   "cell_type": "code",
   "execution_count": 5,
   "id": "23f571b1",
   "metadata": {},
   "outputs": [
    {
     "data": {
      "text/html": [
       "<div>\n",
       "<style scoped>\n",
       "    .dataframe tbody tr th:only-of-type {\n",
       "        vertical-align: middle;\n",
       "    }\n",
       "\n",
       "    .dataframe tbody tr th {\n",
       "        vertical-align: top;\n",
       "    }\n",
       "\n",
       "    .dataframe thead th {\n",
       "        text-align: right;\n",
       "    }\n",
       "</style>\n",
       "<table border=\"1\" class=\"dataframe\">\n",
       "  <thead>\n",
       "    <tr style=\"text-align: right;\">\n",
       "      <th></th>\n",
       "      <th>precip_rate</th>\n",
       "      <th>rh</th>\n",
       "      <th>wind_spd</th>\n",
       "      <th>timestamp_utc</th>\n",
       "      <th>snow_rate</th>\n",
       "      <th>app_temp</th>\n",
       "      <th>pres</th>\n",
       "      <th>azimuth</th>\n",
       "      <th>dewpt</th>\n",
       "      <th>uv</th>\n",
       "      <th>...</th>\n",
       "      <th>vis</th>\n",
       "      <th>dni</th>\n",
       "      <th>temp</th>\n",
       "      <th>slp</th>\n",
       "      <th>clouds</th>\n",
       "      <th>ts</th>\n",
       "      <th>PV_Power</th>\n",
       "      <th>declination_angle</th>\n",
       "      <th>altitude_angle</th>\n",
       "      <th>azimuth_angle</th>\n",
       "    </tr>\n",
       "    <tr>\n",
       "      <th>timestamp_local</th>\n",
       "      <th></th>\n",
       "      <th></th>\n",
       "      <th></th>\n",
       "      <th></th>\n",
       "      <th></th>\n",
       "      <th></th>\n",
       "      <th></th>\n",
       "      <th></th>\n",
       "      <th></th>\n",
       "      <th></th>\n",
       "      <th></th>\n",
       "      <th></th>\n",
       "      <th></th>\n",
       "      <th></th>\n",
       "      <th></th>\n",
       "      <th></th>\n",
       "      <th></th>\n",
       "      <th></th>\n",
       "      <th></th>\n",
       "      <th></th>\n",
       "      <th></th>\n",
       "    </tr>\n",
       "  </thead>\n",
       "  <tbody>\n",
       "    <tr>\n",
       "      <th>2016-01-04 00:00:00</th>\n",
       "      <td>0.0</td>\n",
       "      <td>61.0</td>\n",
       "      <td>1.6</td>\n",
       "      <td>2016-01-03 17:00:00</td>\n",
       "      <td>0.0</td>\n",
       "      <td>28.2</td>\n",
       "      <td>1014.76575</td>\n",
       "      <td>209.44</td>\n",
       "      <td>18.8</td>\n",
       "      <td>0.0</td>\n",
       "      <td>...</td>\n",
       "      <td>10.0</td>\n",
       "      <td>0.0</td>\n",
       "      <td>27.0</td>\n",
       "      <td>1015.0</td>\n",
       "      <td>25.0</td>\n",
       "      <td>1.451840e+09</td>\n",
       "      <td>0.0</td>\n",
       "      <td>-0.39703</td>\n",
       "      <td>-1.41642</td>\n",
       "      <td>0.00000</td>\n",
       "    </tr>\n",
       "    <tr>\n",
       "      <th>2016-01-04 00:15:00</th>\n",
       "      <td>0.0</td>\n",
       "      <td>63.0</td>\n",
       "      <td>1.6</td>\n",
       "      <td>2016-01-03 17:15:00</td>\n",
       "      <td>0.0</td>\n",
       "      <td>28.3</td>\n",
       "      <td>1014.76570</td>\n",
       "      <td>191.08</td>\n",
       "      <td>19.4</td>\n",
       "      <td>0.0</td>\n",
       "      <td>...</td>\n",
       "      <td>10.0</td>\n",
       "      <td>0.0</td>\n",
       "      <td>27.0</td>\n",
       "      <td>1015.0</td>\n",
       "      <td>25.0</td>\n",
       "      <td>1.451841e+09</td>\n",
       "      <td>0.0</td>\n",
       "      <td>-0.39703</td>\n",
       "      <td>-1.40442</td>\n",
       "      <td>0.37278</td>\n",
       "    </tr>\n",
       "  </tbody>\n",
       "</table>\n",
       "<p>2 rows × 26 columns</p>\n",
       "</div>"
      ],
      "text/plain": [
       "                     precip_rate    rh  wind_spd        timestamp_utc  \\\n",
       "timestamp_local                                                         \n",
       "2016-01-04 00:00:00          0.0  61.0       1.6  2016-01-03 17:00:00   \n",
       "2016-01-04 00:15:00          0.0  63.0       1.6  2016-01-03 17:15:00   \n",
       "\n",
       "                     snow_rate  app_temp        pres  azimuth  dewpt   uv  \\\n",
       "timestamp_local                                                             \n",
       "2016-01-04 00:00:00        0.0      28.2  1014.76575   209.44   18.8  0.0   \n",
       "2016-01-04 00:15:00        0.0      28.3  1014.76570   191.08   19.4  0.0   \n",
       "\n",
       "                     ...   vis  dni  temp     slp  clouds            ts  \\\n",
       "timestamp_local      ...                                                  \n",
       "2016-01-04 00:00:00  ...  10.0  0.0  27.0  1015.0    25.0  1.451840e+09   \n",
       "2016-01-04 00:15:00  ...  10.0  0.0  27.0  1015.0    25.0  1.451841e+09   \n",
       "\n",
       "                     PV_Power  declination_angle  altitude_angle  \\\n",
       "timestamp_local                                                    \n",
       "2016-01-04 00:00:00       0.0           -0.39703        -1.41642   \n",
       "2016-01-04 00:15:00       0.0           -0.39703        -1.40442   \n",
       "\n",
       "                     azimuth_angle  \n",
       "timestamp_local                     \n",
       "2016-01-04 00:00:00        0.00000  \n",
       "2016-01-04 00:15:00        0.37278  \n",
       "\n",
       "[2 rows x 26 columns]"
      ]
     },
     "execution_count": 5,
     "metadata": {},
     "output_type": "execute_result"
    }
   ],
   "source": [
    "'''\n",
    "====================================\n",
    "The imported dataset is already passed two preprocessing steps \n",
    "\n",
    "1. Remove timesteps with zero PV power output during daytime\n",
    "2. Add sun position angles\n",
    "====================================\n",
    "'''\n",
    "original_df.head(2)"
   ]
  },
  {
   "cell_type": "markdown",
   "id": "890a77c8",
   "metadata": {},
   "source": [
    "# Preprocessing data\n",
    "### 1. Filter daytime timestamp"
   ]
  },
  {
   "cell_type": "code",
   "execution_count": 6,
   "id": "09072af5",
   "metadata": {},
   "outputs": [
    {
     "data": {
      "text/plain": [
       "(65758, 26)"
      ]
     },
     "execution_count": 6,
     "metadata": {},
     "output_type": "execute_result"
    }
   ],
   "source": [
    "dt_fil_df = original_df[(original_df.index.time >= datetime.time(6,0)) & (original_df.index.time <= datetime.time(18,0))]\n",
    "dt_fil_df.shape"
   ]
  },
  {
   "cell_type": "code",
   "execution_count": 7,
   "id": "b09dabcd",
   "metadata": {},
   "outputs": [
    {
     "name": "stdout",
     "output_type": "stream",
     "text": [
      "Daytime filter has 65758 samples, presenting 51.04 % from original df\n",
      "Daytime filter df has 49 samples per day\n"
     ]
    }
   ],
   "source": [
    "print(f'Daytime filter has {dt_fil_df.shape[0]} samples, presenting {(dt_fil_df.shape[0] * 100 / original_df.shape[0]):.2f} % from original df')\n",
    "print(f'Daytime filter df has {dt_fil_df.loc[\"2016-01-04\"].shape[0]} samples per day')\n",
    "df = dt_fil_df"
   ]
  },
  {
   "cell_type": "markdown",
   "id": "7ccf7f4c",
   "metadata": {},
   "source": [
    "### 2. Features selections and arrange columns to extract spatial features "
   ]
  },
  {
   "cell_type": "code",
   "execution_count": 8,
   "id": "19a3d172",
   "metadata": {},
   "outputs": [
    {
     "data": {
      "text/plain": [
       "Index(['solar_rad', 'ghi', 'dhi', 'dni', 'uv', 'rh', 'app_temp', 'temp',\n",
       "       'dewpt', 'clouds', 'vis', 'wind_spd', 'wind_dir', 'declination_angle',\n",
       "       'altitude_angle', 'azimuth_angle', 'PV_Power', 'weather', 'precip_rate',\n",
       "       'timestamp_utc', 'snow_rate', 'pres', 'azimuth', 'elev_angle', 'slp',\n",
       "       'ts'],\n",
       "      dtype='object')"
      ]
     },
     "execution_count": 8,
     "metadata": {},
     "output_type": "execute_result"
    }
   ],
   "source": [
    "'''\n",
    "Arrange correlated columns:\n",
    "`Irradiance` => `Temperatures` => `visibility` => 'Wind & humidity' => 'Sun Position' => 'PV_Power (y)' => Unused columns\n",
    "'''\n",
    "arr_cols = ['solar_rad', 'ghi', 'dhi', 'dni', 'uv', 'rh',       \n",
    "            'app_temp', 'temp', 'dewpt', \n",
    "            'clouds', 'vis',             \n",
    "            'wind_spd', 'wind_dir', \n",
    "            'declination_angle', 'altitude_angle', 'azimuth_angle',\n",
    "            'PV_Power',\n",
    "            'weather', 'precip_rate',   'timestamp_utc', 'snow_rate', 'pres', 'azimuth', 'elev_angle', 'slp', 'ts']\n",
    "\n",
    "df = df[arr_cols]\n",
    "df.columns"
   ]
  },
  {
   "cell_type": "code",
   "execution_count": 9,
   "id": "e0c4b06b",
   "metadata": {},
   "outputs": [
    {
     "name": "stdout",
     "output_type": "stream",
     "text": [
      "Categorical columns : ['weather', 'timestamp_utc'] \n",
      "\n",
      "Numerical columns : ['solar_rad', 'ghi', 'dhi', 'dni', 'uv', 'rh', 'app_temp', 'temp', 'dewpt', 'clouds', 'vis', 'wind_spd', 'wind_dir', 'declination_angle', 'altitude_angle', 'azimuth_angle', 'PV_Power', 'precip_rate', 'snow_rate', 'pres', 'azimuth', 'elev_angle', 'slp', 'ts']\n"
     ]
    }
   ],
   "source": [
    "# Split X columns into categorical and numerical \n",
    "categorical_columns, numerical_columns = split_num_cat(df)\n",
    "print(f'Categorical columns : {categorical_columns} \\n')\n",
    "print(f'Numerical columns : {numerical_columns}')"
   ]
  },
  {
   "cell_type": "code",
   "execution_count": 10,
   "id": "98700b7b",
   "metadata": {},
   "outputs": [
    {
     "name": "stdout",
     "output_type": "stream",
     "text": [
      "Ignored columns : ['dewpt', 'clouds', 'vis', 'precip_rate', 'azimuth', 'elev_angle', 'snow_rate', 'ts', 'pres', 'wind_dir', 'slp', 'weather', 'timestamp_utc']\n"
     ]
    }
   ],
   "source": [
    "'''\n",
    "Disgard columns which will not be used for forecasting\n",
    "'''\n",
    "y_col = ['PV_Power']\n",
    "\n",
    "ignored_cols = ['dewpt', 'clouds', 'vis', 'precip_rate', 'azimuth', 'elev_angle', \n",
    "                'snow_rate', 'ts', 'pres', 'wind_dir', 'slp'] + categorical_columns \n",
    "print(f'Ignored columns : {ignored_cols}')"
   ]
  },
  {
   "cell_type": "code",
   "execution_count": 11,
   "id": "fbc15c7d",
   "metadata": {},
   "outputs": [
    {
     "name": "stdout",
     "output_type": "stream",
     "text": [
      "List of X columns: \n",
      "['solar_rad', 'ghi', 'dhi', 'dni', 'uv', 'rh', 'app_temp', 'temp', 'wind_spd', 'declination_angle', 'altitude_angle', 'azimuth_angle'] \n",
      "\n",
      "Total of X columns: \n",
      "12\n"
     ]
    }
   ],
   "source": [
    "# Split datasets by time\n",
    "training_set = df.sort_index().loc[:'2018-09'] # Training set (2 years and 9 months) = 68%\n",
    "val_set = df.sort_index().loc['2018-10':'2018-12'] # Validation set (3 months) = 7%\n",
    "test_set = df.sort_index().loc['2019':] # Test set (1 year) = 25%\n",
    "\n",
    "# Split `X` and `y`\n",
    "X_train, y_train = split_X_y(training_set, ignored_cols)\n",
    "X_val, y_val = split_X_y(val_set, ignored_cols)\n",
    "X_test, y_test = split_X_y(test_set, ignored_cols)\n",
    "\n",
    "\n",
    "X_cols = X_train.columns\n",
    "print(f'List of X columns: \\n{list(X_cols)} \\n')\n",
    "print(f'Total of X columns: \\n{len(X_cols)}')"
   ]
  },
  {
   "cell_type": "code",
   "execution_count": 12,
   "id": "74380288",
   "metadata": {},
   "outputs": [
    {
     "name": "stdout",
     "output_type": "stream",
     "text": [
      "\n",
      "    Training set is from 2016-01-04 06:00:00 to 2018-09-30 18:00:00 \n",
      "    Validation set is from 2018-10-01 06:00:00 to 2018-12-31 18:00:00 \n",
      "    Test set is from 2019-01-01 06:00:00 to 2019-12-31 18:00:00\n",
      "    \n"
     ]
    }
   ],
   "source": [
    "## Time peroid of each dataset. \n",
    "print(\n",
    "    f'''\n",
    "    Training set is from {X_train.index.min()} to {X_train.index.max()} \n",
    "    Validation set is from {X_val.index.min()} to {X_val.index.max()} \n",
    "    Test set is from {X_test.index.min()} to {X_test.index.max()}\n",
    "    ''')"
   ]
  },
  {
   "cell_type": "markdown",
   "id": "d98e5e5b",
   "metadata": {},
   "source": [
    "### 3. Rescale numerical columns"
   ]
  },
  {
   "cell_type": "code",
   "execution_count": 13,
   "id": "5616d758-0083-4194-8b66-12a5886d3f23",
   "metadata": {
    "tags": []
   },
   "outputs": [
    {
     "name": "stdout",
     "output_type": "stream",
     "text": [
      "Total of columns to rescale: \n",
      "9\n",
      "Columns to rescale are: ['solar_rad', 'ghi', 'dhi', 'dni', 'uv', 'rh', 'app_temp', 'temp', 'wind_spd'] \n",
      "\n"
     ]
    },
    {
     "data": {
      "text/plain": [
       "((44982, 12), (44982,), (4312, 12), (4312,), (16464, 12), (16464,))"
      ]
     },
     "execution_count": 13,
     "metadata": {},
     "output_type": "execute_result"
    }
   ],
   "source": [
    "from sklearn.compose import make_column_transformer\n",
    "from sklearn.preprocessing import OneHotEncoder, StandardScaler, MaxAbsScaler\n",
    "\n",
    "# Manage columns for Standardize processes\n",
    "non_std_cols = ['declination_angle', 'altitude_angle', 'azimuth_angle']\n",
    "\n",
    "selected_cols = list(map(lambda x : x not in non_std_cols, X_cols))\n",
    "std_cols = X_cols[selected_cols]\n",
    "print(f'Total of columns to rescale: \\n{len(std_cols)}')\n",
    "print(f'Columns to rescale are: {list(std_cols)} \\n')\n",
    "\n",
    "ct = make_column_transformer((MaxAbsScaler(), std_cols), remainder='passthrough')\n",
    "\n",
    "ct.fit(X_train)\n",
    "\n",
    "std_X_train = ct.transform(X_train)\n",
    "std_X_val = ct.transform(X_val)\n",
    "std_X_test = ct.transform(X_test)\n",
    "\n",
    "std_X_train.shape, y_train.shape, std_X_val.shape, y_val.shape, std_X_test.shape, y_test.shape"
   ]
  },
  {
   "cell_type": "code",
   "execution_count": 14,
   "id": "f4320b6d",
   "metadata": {},
   "outputs": [
    {
     "data": {
      "text/plain": [
       "(dtype('float32'),\n",
       " dtype('float32'),\n",
       " dtype('float32'),\n",
       " dtype('float32'),\n",
       " dtype('float32'),\n",
       " dtype('float32'))"
      ]
     },
     "execution_count": 14,
     "metadata": {},
     "output_type": "execute_result"
    }
   ],
   "source": [
    "'''\n",
    "Check data type of all dataset\n",
    "'''\n",
    "std_X_train.dtype, y_train.dtype, std_X_val.dtype, y_val.dtype, std_X_test.dtype, y_test.dtype"
   ]
  },
  {
   "cell_type": "code",
   "execution_count": 15,
   "id": "25dd4ba4",
   "metadata": {},
   "outputs": [
    {
     "name": "stdout",
     "output_type": "stream",
     "text": [
      "training set = 0.68\n",
      "validation set = 0.07\n",
      "test set = 0.25\n",
      "total datapoints = 65758\n"
     ]
    }
   ],
   "source": [
    "print(f\"training set = {np.round(std_X_train.shape[0] / df.shape[0], 2)}\")\n",
    "print(f\"validation set = {np.round(std_X_val.shape[0] / df.shape[0], 2)}\")\n",
    "print(f\"test set = {np.round(std_X_test.shape[0] / df.shape[0], 2)}\")\n",
    "print(f'total datapoints = {std_X_train.shape[0] + std_X_val.shape[0] + std_X_test.shape[0]}')"
   ]
  },
  {
   "cell_type": "markdown",
   "id": "ee0c5797",
   "metadata": {},
   "source": [
    "### 4. Arrange sequences of historical weather data"
   ]
  },
  {
   "cell_type": "code",
   "execution_count": 18,
   "id": "b0dd0e88",
   "metadata": {},
   "outputs": [
    {
     "name": "stderr",
     "output_type": "stream",
     "text": [
      "/tmp/ipykernel_17639/1103906657.py:15: FutureWarning: Series.__getitem__ treating keys as positions is deprecated. In a future version, integer keys will always be treated as labels (consistent with DataFrame behavior). To access a value by position, use `ser.iloc[pos]`\n",
      "  y.append(Output[seq + forecast_range])\n"
     ]
    }
   ],
   "source": [
    "'''\n",
    "Historical data is recorded every 15 minutes (15 mins/sample). \n",
    "'''\n",
    "sequence_size = 5\n",
    "forecast_ahead = 10\n",
    "\n",
    "window_size = df.loc[\"2016-01-04\"].shape[0] * sequence_size\n",
    "forecast_range = df.loc[\"2016-01-04\"].shape[0] * (forecast_ahead-1)\n",
    "\n",
    "def sequenceData(Input, Output, window_size, forecast_range):\n",
    "    X, y = [], []\n",
    "    for i in range(len(Input) - window_size - forecast_range):\n",
    "        seq = i + window_size\n",
    "        X.append(Input[i:seq])\n",
    "        y.append(Output[seq + forecast_range])        \n",
    "    return np.array(X), np.array(y)\n",
    "\n",
    "seq_X_train, seq_y_train = sequenceData(std_X_train, y_train, window_size, forecast_range)\n",
    "seq_X_val, seq_y_val = sequenceData(std_X_val, y_val, window_size, forecast_range)\n",
    "seq_X_test, seq_y_test = sequenceData(std_X_test, y_test, window_size, forecast_range)"
   ]
  },
  {
   "cell_type": "code",
   "execution_count": 19,
   "id": "86ed7bcd",
   "metadata": {},
   "outputs": [
    {
     "name": "stdout",
     "output_type": "stream",
     "text": [
      "======== Data Shape ======== \n",
      "Training set: X = (44296, 245, 12), y = (44296,) \n",
      "Validation set: X = (3626, 245, 12), y = (3626,) \n",
      "Test set: X = (15778, 245, 12), y = (15778,) \n",
      "Total samples in a day = 49 \n",
      "window size = 245\n",
      "forecast ahead = 10 days\n"
     ]
    }
   ],
   "source": [
    "print('======== Data Shape ======== \\n'\n",
    "    f'Training set: X = {seq_X_train.shape}, y = {seq_y_train.shape} \\n'\n",
    "     f'Validation set: X = {seq_X_val.shape}, y = {seq_y_val.shape} \\n'\n",
    "     f'Test set: X = {seq_X_test.shape}, y = {seq_y_test.shape} \\n'\n",
    "      f'Total samples in a day = {df.loc[\"2016-01-04\"].shape[0]} \\n'\n",
    "     f'window size = {window_size}\\n'\n",
    "     f'forecast ahead = {forecast_ahead} days')\n",
    "\n",
    "total_X_cols = len(X_cols)"
   ]
  },
  {
   "cell_type": "markdown",
   "id": "b820ce69",
   "metadata": {},
   "source": [
    "# Setup environment\n",
    "### 1. Check CPU and GPU available"
   ]
  },
  {
   "cell_type": "code",
   "execution_count": 16,
   "id": "0bc1849f",
   "metadata": {},
   "outputs": [
    {
     "name": "stdout",
     "output_type": "stream",
     "text": [
      "Num GPUs Available:  1\n",
      "Tensorflow version = 2.14.0\n"
     ]
    },
    {
     "name": "stderr",
     "output_type": "stream",
     "text": [
      "2024-11-28 15:41:28.973866: I tensorflow/compiler/xla/stream_executor/cuda/cuda_gpu_executor.cc:880] could not open file to read NUMA node: /sys/bus/pci/devices/0000:01:00.0/numa_node\n",
      "Your kernel may have been built without NUMA support.\n",
      "2024-11-28 15:41:29.170665: I tensorflow/compiler/xla/stream_executor/cuda/cuda_gpu_executor.cc:880] could not open file to read NUMA node: /sys/bus/pci/devices/0000:01:00.0/numa_node\n",
      "Your kernel may have been built without NUMA support.\n",
      "2024-11-28 15:41:29.170719: I tensorflow/compiler/xla/stream_executor/cuda/cuda_gpu_executor.cc:880] could not open file to read NUMA node: /sys/bus/pci/devices/0000:01:00.0/numa_node\n",
      "Your kernel may have been built without NUMA support.\n"
     ]
    }
   ],
   "source": [
    "import tensorflow as tf\n",
    "from tensorflow import keras\n",
    "print(\"Num GPUs Available: \", len(tf.config.list_physical_devices('GPU')))\n",
    "print(\"Tensorflow version = \" + tf.__version__)"
   ]
  },
  {
   "cell_type": "markdown",
   "id": "376d70c6",
   "metadata": {},
   "source": [
    "### 2. Set random seed and state"
   ]
  },
  {
   "cell_type": "code",
   "execution_count": 17,
   "id": "34fc3be8",
   "metadata": {},
   "outputs": [],
   "source": [
    "import os, random\n",
    "import tensorflow as tf\n",
    "\n",
    "def set_seed(seed_value=20):\n",
    "    random.seed(seed_value)\n",
    "    np.random.seed(seed_value)\n",
    "    tf.random.set_seed(seed_value)\n",
    "    os.environ['PYTHONHASHSEED'] = str(seed_value)"
   ]
  },
  {
   "cell_type": "markdown",
   "id": "4ac09589",
   "metadata": {},
   "source": [
    "# Building forecast models"
   ]
  },
  {
   "cell_type": "markdown",
   "id": "1c07c0c2",
   "metadata": {},
   "source": [
    "### 1. Long-Short Term Memory (LSTM)"
   ]
  },
  {
   "cell_type": "code",
   "execution_count": 20,
   "id": "caee99ee",
   "metadata": {},
   "outputs": [
    {
     "name": "stderr",
     "output_type": "stream",
     "text": [
      "2024-11-28 15:48:13.812770: I tensorflow/compiler/xla/stream_executor/cuda/cuda_gpu_executor.cc:880] could not open file to read NUMA node: /sys/bus/pci/devices/0000:01:00.0/numa_node\n",
      "Your kernel may have been built without NUMA support.\n",
      "2024-11-28 15:48:13.812864: I tensorflow/compiler/xla/stream_executor/cuda/cuda_gpu_executor.cc:880] could not open file to read NUMA node: /sys/bus/pci/devices/0000:01:00.0/numa_node\n",
      "Your kernel may have been built without NUMA support.\n",
      "2024-11-28 15:48:13.812893: I tensorflow/compiler/xla/stream_executor/cuda/cuda_gpu_executor.cc:880] could not open file to read NUMA node: /sys/bus/pci/devices/0000:01:00.0/numa_node\n",
      "Your kernel may have been built without NUMA support.\n",
      "2024-11-28 15:48:13.940044: I tensorflow/compiler/xla/stream_executor/cuda/cuda_gpu_executor.cc:880] could not open file to read NUMA node: /sys/bus/pci/devices/0000:01:00.0/numa_node\n",
      "Your kernel may have been built without NUMA support.\n",
      "2024-11-28 15:48:13.940111: I tensorflow/compiler/xla/stream_executor/cuda/cuda_gpu_executor.cc:880] could not open file to read NUMA node: /sys/bus/pci/devices/0000:01:00.0/numa_node\n",
      "Your kernel may have been built without NUMA support.\n",
      "2024-11-28 15:48:13.940120: I tensorflow/core/common_runtime/gpu/gpu_device.cc:1977] Could not identify NUMA node of platform GPU id 0, defaulting to 0.  Your kernel may not have been built with NUMA support.\n",
      "2024-11-28 15:48:13.940201: I tensorflow/compiler/xla/stream_executor/cuda/cuda_gpu_executor.cc:880] could not open file to read NUMA node: /sys/bus/pci/devices/0000:01:00.0/numa_node\n",
      "Your kernel may have been built without NUMA support.\n",
      "2024-11-28 15:48:13.940234: I tensorflow/core/common_runtime/gpu/gpu_device.cc:1886] Created device /job:localhost/replica:0/task:0/device:GPU:0 with 5247 MB memory:  -> device: 0, name: NVIDIA GeForce RTX 4070 Laptop GPU, pci bus id: 0000:01:00.0, compute capability: 8.9\n"
     ]
    },
    {
     "name": "stdout",
     "output_type": "stream",
     "text": [
      "Model: \"LSTM_model\"\n",
      "_________________________________________________________________\n",
      " Layer (type)                Output Shape              Param #   \n",
      "=================================================================\n",
      " model_input (InputLayer)    [(None, 245, 12)]         0         \n",
      "                                                                 \n",
      " 1st_LSTM (LSTM)             (None, 245, 192)          157440    \n",
      "                                                                 \n",
      " 2nd_LSTM (LSTM)             (None, 96)                110976    \n",
      "                                                                 \n",
      " 1st_dense (Dense)           (None, 192)               18624     \n",
      "                                                                 \n",
      " 2nd_dense (Dense)           (None, 96)                18528     \n",
      "                                                                 \n",
      " 3rd_dense (Dense)           (None, 48)                4656      \n",
      "                                                                 \n",
      " batch_normalization (Batch  (None, 48)                192       \n",
      " Normalization)                                                  \n",
      "                                                                 \n",
      " dropout (Dropout)           (None, 48)                0         \n",
      "                                                                 \n",
      " model_output (Dense)        (None, 1)                 49        \n",
      "                                                                 \n",
      "=================================================================\n",
      "Total params: 310465 (1.18 MB)\n",
      "Trainable params: 310369 (1.18 MB)\n",
      "Non-trainable params: 96 (384.00 Byte)\n",
      "_________________________________________________________________\n"
     ]
    }
   ],
   "source": [
    "from keras import Model\n",
    "from keras.layers import Dense, LSTM, BatchNormalization, Dropout, Reshape, Input, Activation\n",
    "from keras.optimizers import SGD, Adam\n",
    "\n",
    "set_seed()\n",
    "input_shape = seq_X_train.shape[1:]\n",
    "\n",
    "# Structure model\n",
    "inputs = Input(shape=input_shape, name='model_input')\n",
    "\n",
    "x = LSTM(192, return_sequences=True, activation='tanh', dropout=0.1, name='1st_LSTM')(inputs)\n",
    "x = LSTM(96, activation='tanh', dropout=0.1, name='2nd_LSTM')(x)\n",
    "x = Dense(192, activation='relu', name='1st_dense')(x)\n",
    "x = Dense(96, activation='relu', name='2nd_dense')(x)\n",
    "x = Dense(48, activation='relu', name='3rd_dense')(x)\n",
    "x = BatchNormalization()(x)\n",
    "x = Dropout(0.1)(x)\n",
    "\n",
    "output = Dense(1, activation='relu', name='model_output')(x)\n",
    "LSTM_model = Model(inputs=inputs, outputs=output, name='LSTM_model')\n",
    "\n",
    "# Configure optimizer\n",
    "lr_scheduler = tf.keras.optimizers.schedules.InverseTimeDecay(0.001, decay_rate=1e-6, decay_steps=1, staircase=False)\n",
    "opt = Adam(learning_rate=lr_scheduler)\n",
    "\n",
    "# Define an optimizer and loss metric\n",
    "LSTM_model.compile(optimizer=opt, loss='mean_absolute_error', metrics=['mean_absolute_error'])\n",
    "\n",
    "LSTM_model.summary()"
   ]
  },
  {
   "cell_type": "code",
   "execution_count": 21,
   "id": "4af39e41",
   "metadata": {
    "scrolled": true
   },
   "outputs": [
    {
     "name": "stdout",
     "output_type": "stream",
     "text": [
      "Epoch 1/10\n"
     ]
    },
    {
     "name": "stderr",
     "output_type": "stream",
     "text": [
      "2024-11-28 15:48:59.851084: I tensorflow/compiler/xla/stream_executor/cuda/cuda_dnn.cc:442] Loaded cuDNN version 8907\n",
      "2024-11-28 15:49:00.507492: I tensorflow/compiler/xla/service/service.cc:168] XLA service 0x7fa05c2485d0 initialized for platform CUDA (this does not guarantee that XLA will be used). Devices:\n",
      "2024-11-28 15:49:00.507535: I tensorflow/compiler/xla/service/service.cc:176]   StreamExecutor device (0): NVIDIA GeForce RTX 4070 Laptop GPU, Compute Capability 8.9\n",
      "2024-11-28 15:49:00.515234: I tensorflow/compiler/mlir/tensorflow/utils/dump_mlir_util.cc:269] disabling MLIR crash reproducer, set env var `MLIR_CRASH_REPRODUCER_DIRECTORY` to enable.\n",
      "2024-11-28 15:49:00.618690: I ./tensorflow/compiler/jit/device_compiler.h:186] Compiled cluster using XLA!  This line is logged at most once for the lifetime of the process.\n"
     ]
    },
    {
     "name": "stdout",
     "output_type": "stream",
     "text": [
      "1385/1385 [==============================] - 63s 42ms/step - loss: 2891.4631 - mean_absolute_error: 2891.4631 - val_loss: 2247.7861 - val_mean_absolute_error: 2247.7861\n",
      "Epoch 2/10\n",
      "1385/1385 [==============================] - 53s 38ms/step - loss: 2481.6025 - mean_absolute_error: 2481.6025 - val_loss: 1777.1219 - val_mean_absolute_error: 1777.1219\n",
      "Epoch 3/10\n",
      "1385/1385 [==============================] - 54s 39ms/step - loss: 1900.2512 - mean_absolute_error: 1900.2512 - val_loss: 1280.3770 - val_mean_absolute_error: 1280.3770\n",
      "Epoch 4/10\n",
      "1385/1385 [==============================] - 55s 39ms/step - loss: 1383.9858 - mean_absolute_error: 1383.9858 - val_loss: 851.1839 - val_mean_absolute_error: 851.1839\n",
      "Epoch 5/10\n",
      "1385/1385 [==============================] - 54s 39ms/step - loss: 1101.6395 - mean_absolute_error: 1101.6395 - val_loss: 754.1306 - val_mean_absolute_error: 754.1306\n",
      "Epoch 6/10\n",
      "1385/1385 [==============================] - 56s 41ms/step - loss: 1032.2347 - mean_absolute_error: 1032.2347 - val_loss: 748.3657 - val_mean_absolute_error: 748.3657\n",
      "Epoch 7/10\n",
      "1385/1385 [==============================] - 56s 40ms/step - loss: 1016.8172 - mean_absolute_error: 1016.8172 - val_loss: 749.3466 - val_mean_absolute_error: 749.3466\n",
      "Epoch 8/10\n",
      "1385/1385 [==============================] - 54s 39ms/step - loss: 1011.4359 - mean_absolute_error: 1011.4359 - val_loss: 745.9724 - val_mean_absolute_error: 745.9724\n",
      "Epoch 9/10\n",
      "1385/1385 [==============================] - 53s 38ms/step - loss: 1015.5731 - mean_absolute_error: 1015.5731 - val_loss: 759.9834 - val_mean_absolute_error: 759.9834\n",
      "Epoch 10/10\n",
      "1385/1385 [==============================] - 54s 39ms/step - loss: 1011.8917 - mean_absolute_error: 1011.8917 - val_loss: 805.3552 - val_mean_absolute_error: 805.3552\n"
     ]
    }
   ],
   "source": [
    "set_seed()\n",
    "'''\n",
    "===================\n",
    "Initial train model \n",
    "===================\n",
    "'''\n",
    "init_epochs = 10\n",
    "Batch = 32\n",
    "\n",
    "with tf.device('/GPU:0'):\n",
    "    LSTM_history = LSTM_model.fit(x=seq_X_train, y=seq_y_train,\n",
    "                                  epochs=init_epochs, batch_size=Batch,\n",
    "                                  validation_data=(seq_X_val, seq_y_val), verbose=1)"
   ]
  },
  {
   "cell_type": "markdown",
   "id": "79d91d2f",
   "metadata": {},
   "source": [
    "#### Evaluate forecast results"
   ]
  },
  {
   "cell_type": "code",
   "execution_count": 22,
   "id": "4bdd18da",
   "metadata": {},
   "outputs": [
    {
     "name": "stdout",
     "output_type": "stream",
     "text": [
      "114/114 [==============================] - 3s 16ms/step\n",
      "494/494 [==============================] - 8s 16ms/step\n"
     ]
    }
   ],
   "source": [
    "LSTM_val_result = forecasting_result(LSTM_model, seq_X_val)\n",
    "LSTM_test_result = forecasting_result(LSTM_model, seq_X_test)"
   ]
  },
  {
   "cell_type": "code",
   "execution_count": 23,
   "id": "7d0cbea0",
   "metadata": {},
   "outputs": [
    {
     "name": "stdout",
     "output_type": "stream",
     "text": [
      "Mean Absolute Error = 805.36 W \n",
      "Root Mean Squared Error = 1283.09 W \n",
      "Mean Bias Error = 517.08 W \n",
      " \n",
      "Normalized_MAE (installed_Power) = 8.05% \n",
      "Normalized_RMSE (installed_Power) = 12.83% \n",
      " \n",
      "Normalized_MAE (avg_Power) = 32.47% \n",
      "Normalized_RMSE (avg_Power) = 51.72% \n",
      " \n",
      "Peak PV output power (from y_test) = 7647.67 W \n",
      "Average PV output power (from y_test) = 2480.68 W\n"
     ]
    }
   ],
   "source": [
    "# Evaluate scores on the validation dataset\n",
    "LSTM_val_scores = show_scores(LSTM_val_result, seq_y_val)"
   ]
  },
  {
   "cell_type": "code",
   "execution_count": 24,
   "id": "da1993d6",
   "metadata": {
    "scrolled": true
   },
   "outputs": [
    {
     "name": "stdout",
     "output_type": "stream",
     "text": [
      "Mean Absolute Error = 910.93 W \n",
      "Root Mean Squared Error = 1346.53 W \n",
      "Mean Bias Error = 341.25 W \n",
      " \n",
      "Normalized_MAE (installed_Power) = 9.11% \n",
      "Normalized_RMSE (installed_Power) = 13.47% \n",
      " \n",
      "Normalized_MAE (avg_Power) = 29.44% \n",
      "Normalized_RMSE (avg_Power) = 43.52% \n",
      " \n",
      "Peak PV output power (from y_test) = 9875.00 W \n",
      "Average PV output power (from y_test) = 3093.70 W\n"
     ]
    }
   ],
   "source": [
    "# Evaluate scores on the test dataset\n",
    "LSTM_test_scores = show_scores(LSTM_test_result, seq_y_test)"
   ]
  },
  {
   "cell_type": "markdown",
   "id": "2da5beac",
   "metadata": {},
   "source": [
    "#### Plot loss curve"
   ]
  },
  {
   "cell_type": "code",
   "execution_count": 25,
   "id": "9bc41ab2",
   "metadata": {},
   "outputs": [
    {
     "data": {
      "image/png": "[encoded data removed]",
      "text/plain": [
       "<Figure size 1500x400 with 1 Axes>"
      ]
     },
     "metadata": {},
     "output_type": "display_data"
    }
   ],
   "source": [
    "loss_acc_epochs(LSTM_history, 'LSTM', 'MAE')"
   ]
  },
  {
   "cell_type": "markdown",
   "id": "90872e5f",
   "metadata": {},
   "source": [
    "### 2. Convolutional Neural Networks and Long Short-Term Memory (CNN + LSTM)"
   ]
  },
  {
   "cell_type": "code",
   "execution_count": 26,
   "id": "98098a91",
   "metadata": {},
   "outputs": [
    {
     "name": "stdout",
     "output_type": "stream",
     "text": [
      "Model: \"CNNLSTM_model\"\n",
      "_________________________________________________________________\n",
      " Layer (type)                Output Shape              Param #   \n",
      "=================================================================\n",
      " model_input (InputLayer)    [(None, 245, 12, 1)]      0         \n",
      "                                                                 \n",
      " 1st_Conv2D (Conv2D)         (None, 245, 10, 32)       128       \n",
      "                                                                 \n",
      " 2nd_Conv2D (Conv2D)         (None, 245, 8, 1)         97        \n",
      "                                                                 \n",
      " reshape (Reshape)           (None, 245, 8)            0         \n",
      "                                                                 \n",
      " 1st_LSTM (LSTM)             (None, 245, 96)           40320     \n",
      "                                                                 \n",
      " 2nd_LSTM (LSTM)             (None, 48)                27840     \n",
      "                                                                 \n",
      " 1st_dense (Dense)           (None, 64)                3136      \n",
      "                                                                 \n",
      " 2nd_dense (Dense)           (None, 32)                2080      \n",
      "                                                                 \n",
      " batch_normalization_1 (Bat  (None, 32)                128       \n",
      " chNormalization)                                                \n",
      "                                                                 \n",
      " dropout_1 (Dropout)         (None, 32)                0         \n",
      "                                                                 \n",
      " model_output (Dense)        (None, 1)                 33        \n",
      "                                                                 \n",
      "=================================================================\n",
      "Total params: 73762 (288.13 KB)\n",
      "Trainable params: 73698 (287.88 KB)\n",
      "Non-trainable params: 64 (256.00 Byte)\n",
      "_________________________________________________________________\n"
     ]
    }
   ],
   "source": [
    "from keras import Model\n",
    "from keras.layers import Dense, LSTM, BatchNormalization, Dropout, Conv1D, Reshape, Input, Activation, Conv2D\n",
    "from keras.optimizers import SGD, Adam\n",
    "\n",
    "set_seed()\n",
    "\n",
    "# Structure model\n",
    "inputs = Input(shape=(*seq_X_train.shape[1:], 1), name='model_input')\n",
    "\n",
    "## Conv2D\n",
    "x = Conv2D(32, kernel_size=(1, 3), strides=(1, 1), padding='valid', activation='relu', name='1st_Conv2D')(inputs)\n",
    "x = Conv2D(1, kernel_size=(1, 3), strides=(1, 1), padding='valid', activation='relu', name='2nd_Conv2D')(x)\n",
    "x = Reshape(target_shape=(x.shape[1:-1]))(x)\n",
    "\n",
    "## LSTM and Dense\n",
    "x = LSTM(96, return_sequences=True, activation='tanh', dropout=0.1, name='1st_LSTM')(x)\n",
    "x = LSTM(48, activation='tanh', dropout=0.1, name='2nd_LSTM')(x)\n",
    "x = Dense(64, activation='relu', name='1st_dense')(x)\n",
    "x = Dense(32, activation='relu', name='2nd_dense')(x)\n",
    "# x = Dense(48, activation='relu', name='3rd_dense')(x)\n",
    "x = BatchNormalization()(x)\n",
    "x = Dropout(0.1)(x)\n",
    "\n",
    "output = Dense(1, activation='relu', name='model_output')(x)\n",
    "CNNLSTM_model = Model(inputs=inputs, outputs=output, name='CNNLSTM_model')\n",
    "\n",
    "# Configure optimizer\n",
    "lr_scheduler = tf.keras.optimizers.schedules.InverseTimeDecay(0.001, decay_rate=1e-6, decay_steps=1, staircase=False)\n",
    "opt = Adam(learning_rate=lr_scheduler)\n",
    "\n",
    "# define an optimizer and loss measure\n",
    "CNNLSTM_model.compile(optimizer=opt, loss='mean_absolute_error', metrics=['mean_absolute_error'])\n",
    "\n",
    "CNNLSTM_model.summary()"
   ]
  },
  {
   "cell_type": "code",
   "execution_count": 27,
   "id": "81ea04bd",
   "metadata": {
    "scrolled": true
   },
   "outputs": [
    {
     "name": "stdout",
     "output_type": "stream",
     "text": [
      "Epoch 1/5\n",
      "1385/1385 [==============================] - 64s 42ms/step - loss: 2916.4438 - mean_absolute_error: 2916.4438 - val_loss: 2322.9541 - val_mean_absolute_error: 2322.9541\n",
      "Epoch 2/5\n",
      "1385/1385 [==============================] - 57s 41ms/step - loss: 2629.3508 - mean_absolute_error: 2629.3508 - val_loss: 1914.3890 - val_mean_absolute_error: 1914.3890\n",
      "Epoch 3/5\n",
      "1385/1385 [==============================] - 57s 41ms/step - loss: 2190.7891 - mean_absolute_error: 2190.7891 - val_loss: 1444.8455 - val_mean_absolute_error: 1444.8455\n",
      "Epoch 4/5\n",
      "1385/1385 [==============================] - 56s 41ms/step - loss: 1725.8510 - mean_absolute_error: 1725.8510 - val_loss: 1063.8088 - val_mean_absolute_error: 1063.8088\n",
      "Epoch 5/5\n",
      "1385/1385 [==============================] - 57s 41ms/step - loss: 1337.0333 - mean_absolute_error: 1337.0333 - val_loss: 938.9310 - val_mean_absolute_error: 938.9310\n"
     ]
    }
   ],
   "source": [
    "set_seed()\n",
    "'''\n",
    "===================\n",
    "Initial train model \n",
    "===================\n",
    "'''\n",
    "init_epochs = 5\n",
    "Batch = 32\n",
    "\n",
    "with tf.device('/GPU:0'):\n",
    "    CNNLSTM_history = CNNLSTM_model.fit(x=seq_X_train, y=seq_y_train,\n",
    "                                        epochs=init_epochs, batch_size=Batch,\n",
    "                                        validation_data=(seq_X_val, seq_y_val), verbose=1)"
   ]
  },
  {
   "cell_type": "markdown",
   "id": "d7c3f414",
   "metadata": {},
   "source": [
    "#### Evaluate forecast results"
   ]
  },
  {
   "cell_type": "code",
   "execution_count": 28,
   "id": "a40fb233",
   "metadata": {},
   "outputs": [
    {
     "name": "stdout",
     "output_type": "stream",
     "text": [
      "114/114 [==============================] - 3s 17ms/step\n",
      "494/494 [==============================] - 9s 18ms/step\n"
     ]
    }
   ],
   "source": [
    "CNNLSTM_val_result = forecasting_result(CNNLSTM_model, seq_X_val)\n",
    "CNNLSTM_test_result = forecasting_result(CNNLSTM_model, seq_X_test)"
   ]
  },
  {
   "cell_type": "code",
   "execution_count": 29,
   "id": "7d060e6a",
   "metadata": {},
   "outputs": [
    {
     "name": "stdout",
     "output_type": "stream",
     "text": [
      "Mean Absolute Error = 938.93 W \n",
      "Root Mean Squared Error = 1254.71 W \n",
      "Mean Bias Error = -554.33 W \n",
      " \n",
      "Normalized_MAE (installed_Power) = 9.39% \n",
      "Normalized_RMSE (installed_Power) = 12.55% \n",
      " \n",
      "Normalized_MAE (avg_Power) = 37.85% \n",
      "Normalized_RMSE (avg_Power) = 50.58% \n",
      " \n",
      "Peak PV output power (from y_test) = 7647.67 W \n",
      "Average PV output power (from y_test) = 2480.68 W\n"
     ]
    }
   ],
   "source": [
    "# Evaluate scores on the validation dataset\n",
    "CNNLSTM_val_scores = show_scores(CNNLSTM_val_result, seq_y_val)"
   ]
  },
  {
   "cell_type": "code",
   "execution_count": 30,
   "id": "9d52353b",
   "metadata": {
    "scrolled": true
   },
   "outputs": [
    {
     "name": "stdout",
     "output_type": "stream",
     "text": [
      "Mean Absolute Error = 1287.55 W \n",
      "Root Mean Squared Error = 1704.85 W \n",
      "Mean Bias Error = -1047.26 W \n",
      " \n",
      "Normalized_MAE (installed_Power) = 12.88% \n",
      "Normalized_RMSE (installed_Power) = 17.05% \n",
      " \n",
      "Normalized_MAE (avg_Power) = 41.62% \n",
      "Normalized_RMSE (avg_Power) = 55.11% \n",
      " \n",
      "Peak PV output power (from y_test) = 9875.00 W \n",
      "Average PV output power (from y_test) = 3093.70 W\n"
     ]
    }
   ],
   "source": [
    "# Evaluate scores on the test dataset\n",
    "CNNLSTM_test_scores = show_scores(CNNLSTM_test_result, seq_y_test)"
   ]
  },
  {
   "cell_type": "markdown",
   "id": "3ab948c2",
   "metadata": {},
   "source": [
    "#### Plot loss curve"
   ]
  },
  {
   "cell_type": "code",
   "execution_count": 31,
   "id": "60cd94bb",
   "metadata": {},
   "outputs": [
    {
     "data": {
      "image/png": "[encoded data removed]",
      "text/plain": [
       "<Figure size 1500x400 with 1 Axes>"
      ]
     },
     "metadata": {},
     "output_type": "display_data"
    }
   ],
   "source": [
    "loss_acc_epochs(CNNLSTM_history, 'CNN + LSTM', 'RMSE')"
   ]
  },
  {
   "cell_type": "markdown",
   "id": "0025c37d",
   "metadata": {},
   "source": [
    "## Comparing the model's accuracy"
   ]
  },
  {
   "cell_type": "code",
   "execution_count": 32,
   "id": "c288ce86",
   "metadata": {},
   "outputs": [
    {
     "data": {
      "text/html": [
       "<div>\n",
       "<style scoped>\n",
       "    .dataframe tbody tr th:only-of-type {\n",
       "        vertical-align: middle;\n",
       "    }\n",
       "\n",
       "    .dataframe tbody tr th {\n",
       "        vertical-align: top;\n",
       "    }\n",
       "\n",
       "    .dataframe thead th {\n",
       "        text-align: right;\n",
       "    }\n",
       "</style>\n",
       "<table border=\"1\" class=\"dataframe\">\n",
       "  <thead>\n",
       "    <tr style=\"text-align: right;\">\n",
       "      <th></th>\n",
       "      <th>MAE</th>\n",
       "      <th>RMSE</th>\n",
       "      <th>MBE</th>\n",
       "      <th>NMAE_installed</th>\n",
       "      <th>NRMSE_installed</th>\n",
       "      <th>NMAE_avg</th>\n",
       "      <th>NRMSE_avg</th>\n",
       "    </tr>\n",
       "  </thead>\n",
       "  <tbody>\n",
       "    <tr>\n",
       "      <th>LSTM</th>\n",
       "      <td>910.929993</td>\n",
       "      <td>1346.530029</td>\n",
       "      <td>341.25</td>\n",
       "      <td>9.11</td>\n",
       "      <td>13.47</td>\n",
       "      <td>29.44</td>\n",
       "      <td>43.52</td>\n",
       "    </tr>\n",
       "    <tr>\n",
       "      <th>CNN + LSTM</th>\n",
       "      <td>1287.550049</td>\n",
       "      <td>1704.849976</td>\n",
       "      <td>-1047.26</td>\n",
       "      <td>12.88</td>\n",
       "      <td>17.05</td>\n",
       "      <td>41.62</td>\n",
       "      <td>55.11</td>\n",
       "    </tr>\n",
       "  </tbody>\n",
       "</table>\n",
       "</div>"
      ],
      "text/plain": [
       "                    MAE         RMSE      MBE  NMAE_installed  \\\n",
       "LSTM         910.929993  1346.530029   341.25            9.11   \n",
       "CNN + LSTM  1287.550049  1704.849976 -1047.26           12.88   \n",
       "\n",
       "            NRMSE_installed  NMAE_avg  NRMSE_avg  \n",
       "LSTM                  13.47     29.44      43.52  \n",
       "CNN + LSTM            17.05     41.62      55.11  "
      ]
     },
     "execution_count": 32,
     "metadata": {},
     "output_type": "execute_result"
    }
   ],
   "source": [
    "seq_models_scores = pd.DataFrame([LSTM_test_scores, CNNLSTM_test_scores], \n",
    "                                 index=['LSTM', 'CNN + LSTM']).round(2)\n",
    "seq_models_scores"
   ]
  }
 ],
 "metadata": {
  "kernelspec": {
   "display_name": "tf_gpu",
   "language": "python",
   "name": "python3"
  },
  "language_info": {
   "codemirror_mode": {
    "name": "ipython",
    "version": 3
   },
   "file_extension": ".py",
   "mimetype": "text/x-python",
   "name": "python",
   "nbconvert_exporter": "python",
   "pygments_lexer": "ipython3",
   "version": "3.11.8"
  }
 },
 "nbformat": 4,
 "nbformat_minor": 5
}
