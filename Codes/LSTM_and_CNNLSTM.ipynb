{
 "cells": [
  {
   "cell_type": "markdown",
   "id": "31e0567c",
   "metadata": {},
   "source": [
    "# Import helper_functions "
   ]
  },
  {
   "cell_type": "code",
   "execution_count": 1,
   "id": "5d87f364",
   "metadata": {},
   "outputs": [
    {
     "name": "stderr",
     "output_type": "stream",
     "text": [
      "2024-02-20 20:58:21.041846: I tensorflow/core/util/port.cc:110] oneDNN custom operations are on. You may see slightly different numerical results due to floating-point round-off errors from different computation orders. To turn them off, set the environment variable `TF_ENABLE_ONEDNN_OPTS=0`.\n",
      "2024-02-20 20:58:22.574594: E tensorflow/compiler/xla/stream_executor/cuda/cuda_dnn.cc:7672] Unable to register cuDNN factory: Attempting to register factory for plugin cuDNN when one has already been registered\n",
      "2024-02-20 20:58:22.586422: E tensorflow/compiler/xla/stream_executor/cuda/cuda_fft.cc:609] Unable to register cuFFT factory: Attempting to register factory for plugin cuFFT when one has already been registered\n",
      "2024-02-20 20:58:22.586437: E tensorflow/compiler/xla/stream_executor/cuda/cuda_blas.cc:1520] Unable to register cuBLAS factory: Attempting to register factory for plugin cuBLAS when one has already been registered\n",
      "2024-02-20 20:58:23.386521: I tensorflow/core/platform/cpu_feature_guard.cc:182] This TensorFlow binary is optimized to use available CPU instructions in performance-critical operations.\n",
      "To enable the following instructions: AVX2 AVX512F AVX512_VNNI AVX512_BF16 FMA, in other operations, rebuild TensorFlow with the appropriate compiler flags.\n"
     ]
    }
   ],
   "source": [
    "from helper_functions import (split_X_y, split_num_cat, forecasting_result, show_scores, APE, plot_histogram, \n",
    "                              fill_na_inf, calculating_kWh, plot_kWh, loss_acc_epochs, plot_pv, \n",
    "                              model_checkpoint, early_stop)"
   ]
  },
  {
   "cell_type": "markdown",
   "id": "0b251ed0",
   "metadata": {},
   "source": [
    "# Import historical dataset"
   ]
  },
  {
   "cell_type": "code",
   "execution_count": 2,
   "id": "753e5cfe",
   "metadata": {
    "tags": []
   },
   "outputs": [
    {
     "data": {
      "text/plain": [
       "(128832, 26)"
      ]
     },
     "execution_count": 2,
     "metadata": {},
     "output_type": "execute_result"
    }
   ],
   "source": [
    "import pandas as pd\n",
    "import numpy as np\n",
    "import seaborn as sns\n",
    "import matplotlib.pyplot as plt\n",
    "%matplotlib inline\n",
    "\n",
    "original_df = pd.read_csv('../Data/hist_data.csv', \n",
    "                 index_col='timestamp_local', encoding='utf-8-sig', parse_dates=['timestamp_local'])\n",
    "\n",
    "original_df.shape"
   ]
  },
  {
   "cell_type": "code",
   "execution_count": 3,
   "id": "23f571b1",
   "metadata": {},
   "outputs": [
    {
     "data": {
      "text/html": [
       "<div>\n",
       "<style scoped>\n",
       "    .dataframe tbody tr th:only-of-type {\n",
       "        vertical-align: middle;\n",
       "    }\n",
       "\n",
       "    .dataframe tbody tr th {\n",
       "        vertical-align: top;\n",
       "    }\n",
       "\n",
       "    .dataframe thead th {\n",
       "        text-align: right;\n",
       "    }\n",
       "</style>\n",
       "<table border=\"1\" class=\"dataframe\">\n",
       "  <thead>\n",
       "    <tr style=\"text-align: right;\">\n",
       "      <th></th>\n",
       "      <th>precip_rate</th>\n",
       "      <th>rh</th>\n",
       "      <th>wind_spd</th>\n",
       "      <th>timestamp_utc</th>\n",
       "      <th>snow_rate</th>\n",
       "      <th>app_temp</th>\n",
       "      <th>pres</th>\n",
       "      <th>azimuth</th>\n",
       "      <th>dewpt</th>\n",
       "      <th>uv</th>\n",
       "      <th>...</th>\n",
       "      <th>vis</th>\n",
       "      <th>dni</th>\n",
       "      <th>temp</th>\n",
       "      <th>slp</th>\n",
       "      <th>clouds</th>\n",
       "      <th>ts</th>\n",
       "      <th>PV_Power</th>\n",
       "      <th>declination_angle</th>\n",
       "      <th>altitude_angle</th>\n",
       "      <th>azimuth_angle</th>\n",
       "    </tr>\n",
       "    <tr>\n",
       "      <th>timestamp_local</th>\n",
       "      <th></th>\n",
       "      <th></th>\n",
       "      <th></th>\n",
       "      <th></th>\n",
       "      <th></th>\n",
       "      <th></th>\n",
       "      <th></th>\n",
       "      <th></th>\n",
       "      <th></th>\n",
       "      <th></th>\n",
       "      <th></th>\n",
       "      <th></th>\n",
       "      <th></th>\n",
       "      <th></th>\n",
       "      <th></th>\n",
       "      <th></th>\n",
       "      <th></th>\n",
       "      <th></th>\n",
       "      <th></th>\n",
       "      <th></th>\n",
       "      <th></th>\n",
       "    </tr>\n",
       "  </thead>\n",
       "  <tbody>\n",
       "    <tr>\n",
       "      <th>2016-01-04 00:00:00</th>\n",
       "      <td>0.0</td>\n",
       "      <td>61.0</td>\n",
       "      <td>1.6</td>\n",
       "      <td>2016-01-03 17:00:00</td>\n",
       "      <td>0.0</td>\n",
       "      <td>28.2</td>\n",
       "      <td>1014.76575</td>\n",
       "      <td>209.44</td>\n",
       "      <td>18.8</td>\n",
       "      <td>0.0</td>\n",
       "      <td>...</td>\n",
       "      <td>10.0</td>\n",
       "      <td>0.0</td>\n",
       "      <td>27.0</td>\n",
       "      <td>1015.0</td>\n",
       "      <td>25.0</td>\n",
       "      <td>1.451840e+09</td>\n",
       "      <td>0.0</td>\n",
       "      <td>-0.39703</td>\n",
       "      <td>-1.41642</td>\n",
       "      <td>0.00000</td>\n",
       "    </tr>\n",
       "    <tr>\n",
       "      <th>2016-01-04 00:15:00</th>\n",
       "      <td>0.0</td>\n",
       "      <td>63.0</td>\n",
       "      <td>1.6</td>\n",
       "      <td>2016-01-03 17:15:00</td>\n",
       "      <td>0.0</td>\n",
       "      <td>28.3</td>\n",
       "      <td>1014.76570</td>\n",
       "      <td>191.08</td>\n",
       "      <td>19.4</td>\n",
       "      <td>0.0</td>\n",
       "      <td>...</td>\n",
       "      <td>10.0</td>\n",
       "      <td>0.0</td>\n",
       "      <td>27.0</td>\n",
       "      <td>1015.0</td>\n",
       "      <td>25.0</td>\n",
       "      <td>1.451841e+09</td>\n",
       "      <td>0.0</td>\n",
       "      <td>-0.39703</td>\n",
       "      <td>-1.40442</td>\n",
       "      <td>0.37278</td>\n",
       "    </tr>\n",
       "  </tbody>\n",
       "</table>\n",
       "<p>2 rows × 26 columns</p>\n",
       "</div>"
      ],
      "text/plain": [
       "                     precip_rate    rh  wind_spd        timestamp_utc   \n",
       "timestamp_local                                                         \n",
       "2016-01-04 00:00:00          0.0  61.0       1.6  2016-01-03 17:00:00  \\\n",
       "2016-01-04 00:15:00          0.0  63.0       1.6  2016-01-03 17:15:00   \n",
       "\n",
       "                     snow_rate  app_temp        pres  azimuth  dewpt   uv   \n",
       "timestamp_local                                                             \n",
       "2016-01-04 00:00:00        0.0      28.2  1014.76575   209.44   18.8  0.0  \\\n",
       "2016-01-04 00:15:00        0.0      28.3  1014.76570   191.08   19.4  0.0   \n",
       "\n",
       "                     ...   vis  dni  temp     slp  clouds            ts   \n",
       "timestamp_local      ...                                                  \n",
       "2016-01-04 00:00:00  ...  10.0  0.0  27.0  1015.0    25.0  1.451840e+09  \\\n",
       "2016-01-04 00:15:00  ...  10.0  0.0  27.0  1015.0    25.0  1.451841e+09   \n",
       "\n",
       "                     PV_Power  declination_angle  altitude_angle   \n",
       "timestamp_local                                                    \n",
       "2016-01-04 00:00:00       0.0           -0.39703        -1.41642  \\\n",
       "2016-01-04 00:15:00       0.0           -0.39703        -1.40442   \n",
       "\n",
       "                     azimuth_angle  \n",
       "timestamp_local                     \n",
       "2016-01-04 00:00:00        0.00000  \n",
       "2016-01-04 00:15:00        0.37278  \n",
       "\n",
       "[2 rows x 26 columns]"
      ]
     },
     "execution_count": 3,
     "metadata": {},
     "output_type": "execute_result"
    }
   ],
   "source": [
    "'''\n",
    "====================================\n",
    "The imported dataset is already passed two preprocessing steps \n",
    "\n",
    "1. Remove timesteps with zero PV power output during daytime\n",
    "2. Add sun position angles\n",
    "====================================\n",
    "'''\n",
    "original_df.head(2)"
   ]
  },
  {
   "cell_type": "markdown",
   "id": "890a77c8",
   "metadata": {},
   "source": [
    "# Preprocessing data"
   ]
  },
  {
   "cell_type": "markdown",
   "id": "a0df86dc",
   "metadata": {},
   "source": [
    "## 1. Filter daytime timestamp\n",
    "\n",
    "### 1.1 Advance filter"
   ]
  },
  {
   "cell_type": "code",
   "execution_count": 4,
   "id": "09072af5",
   "metadata": {},
   "outputs": [
    {
     "data": {
      "text/plain": [
       "128832"
      ]
     },
     "execution_count": 4,
     "metadata": {},
     "output_type": "execute_result"
    }
   ],
   "source": [
    "import datetime\n",
    "hours = original_df.index.time\n",
    "advance_filter = ((hours == datetime.time(0,0)) | (hours == datetime.time(1,0)) | (hours == datetime.time(2,0)) | \n",
    "                  (hours == datetime.time(3,0)) | (hours == datetime.time(4,0)) | (hours == datetime.time(5,0)) |\n",
    "                  (hours >= datetime.time(6,0)) & (hours <= datetime.time(18,0)) | (hours == datetime.time(19,0)) | \n",
    "                  (hours == datetime.time(20,0)) | (hours == datetime.time(21,0)) |(hours == datetime.time(22,0)) |\n",
    "                  (hours == datetime.time(23,0)))\n",
    "len(advance_filter)"
   ]
  },
  {
   "cell_type": "code",
   "execution_count": 5,
   "id": "2257e532",
   "metadata": {},
   "outputs": [
    {
     "data": {
      "text/plain": [
       "(80520, 26)"
      ]
     },
     "execution_count": 5,
     "metadata": {},
     "output_type": "execute_result"
    }
   ],
   "source": [
    "adv_fil_df = original_df[advance_filter]\n",
    "adv_fil_df.shape"
   ]
  },
  {
   "cell_type": "markdown",
   "id": "aa741800",
   "metadata": {},
   "source": [
    "### 1.2 Standard filter"
   ]
  },
  {
   "cell_type": "code",
   "execution_count": 6,
   "id": "74efda1b",
   "metadata": {},
   "outputs": [
    {
     "data": {
      "text/plain": [
       "(65758, 26)"
      ]
     },
     "execution_count": 6,
     "metadata": {},
     "output_type": "execute_result"
    }
   ],
   "source": [
    "import datetime\n",
    "std_fil_df = original_df[(original_df.index.time >= datetime.time(6,0)) & (original_df.index.time <= datetime.time(18,0))]\n",
    "std_fil_df.shape"
   ]
  },
  {
   "cell_type": "code",
   "execution_count": 7,
   "id": "092e827f",
   "metadata": {},
   "outputs": [],
   "source": [
    "# adv_fil_df.loc[\"2016-04-04\":\"2016-04-06\"]['PV_Power'].plot();"
   ]
  },
  {
   "cell_type": "code",
   "execution_count": 8,
   "id": "b09dabcd",
   "metadata": {},
   "outputs": [
    {
     "name": "stdout",
     "output_type": "stream",
     "text": [
      "Advance filter has 80520 samples, presenting 62.50 % from original df\n",
      "Standard filter has 65758 samples, presenting 51.04 % from original df \n",
      "\n",
      "Advance filter df => 60 samples per day\n",
      "Standard filter df => 49 samples per day\n"
     ]
    }
   ],
   "source": [
    "print(f'Advance filter has {adv_fil_df.shape[0]} samples, presenting {(adv_fil_df.shape[0] * 100 / original_df.shape[0]):.2f} % from original df')\n",
    "print(f'Standard filter has {std_fil_df.shape[0]} samples, presenting {(std_fil_df.shape[0] * 100 / original_df.shape[0]):.2f} % from original df \\n')\n",
    "\n",
    "print(f'Advance filter df => {adv_fil_df.loc[\"2016-01-04\"].shape[0]} samples per day')\n",
    "print(f'Standard filter df => {std_fil_df.loc[\"2016-01-04\"].shape[0]} samples per day')\n",
    "\n",
    "\n",
    "'''\n",
    "Choose which filter dfs.\n",
    "'''\n",
    "# df = adv_fil_df\n",
    "df = std_fil_df"
   ]
  },
  {
   "cell_type": "markdown",
   "id": "7ccf7f4c",
   "metadata": {},
   "source": [
    "## 2. Features selections and arrange columns to extract spatial features "
   ]
  },
  {
   "cell_type": "code",
   "execution_count": 9,
   "id": "19a3d172",
   "metadata": {},
   "outputs": [
    {
     "data": {
      "text/plain": [
       "Index(['solar_rad', 'ghi', 'dhi', 'dni', 'uv', 'rh', 'app_temp', 'temp',\n",
       "       'dewpt', 'clouds', 'vis', 'wind_spd', 'wind_dir', 'declination_angle',\n",
       "       'altitude_angle', 'azimuth_angle', 'PV_Power', 'weather', 'precip_rate',\n",
       "       'timestamp_utc', 'snow_rate', 'pres', 'azimuth', 'elev_angle', 'slp',\n",
       "       'ts'],\n",
       "      dtype='object')"
      ]
     },
     "execution_count": 9,
     "metadata": {},
     "output_type": "execute_result"
    }
   ],
   "source": [
    "'''\n",
    "Arrange correlated columns:\n",
    "\n",
    "`Irradiance` => `Temperatures` => `visibility` => 'Wind & humidity' => 'Sun Position' => 'PV_Power (y)' => Unused columns\n",
    "\n",
    "'''\n",
    "arr_cols = ['solar_rad', 'ghi', 'dhi', 'dni', 'uv', 'rh',       \n",
    "            'app_temp', 'temp', 'dewpt', \n",
    "            'clouds', 'vis',             \n",
    "            'wind_spd', 'wind_dir', \n",
    "            'declination_angle', 'altitude_angle', 'azimuth_angle',\n",
    "            'PV_Power',\n",
    "            'weather', 'precip_rate',   'timestamp_utc', 'snow_rate', 'pres', 'azimuth', 'elev_angle', 'slp', 'ts']\n",
    "\n",
    "df = df[arr_cols]\n",
    "df.columns"
   ]
  },
  {
   "cell_type": "code",
   "execution_count": 10,
   "id": "e0c4b06b",
   "metadata": {},
   "outputs": [
    {
     "name": "stdout",
     "output_type": "stream",
     "text": [
      "Categorical columns : ['weather', 'timestamp_utc'] \n",
      "\n",
      "Numerical columns : ['solar_rad', 'ghi', 'dhi', 'dni', 'uv', 'rh', 'app_temp', 'temp', 'dewpt', 'clouds', 'vis', 'wind_spd', 'wind_dir', 'declination_angle', 'altitude_angle', 'azimuth_angle', 'PV_Power', 'precip_rate', 'snow_rate', 'pres', 'azimuth', 'elev_angle', 'slp', 'ts']\n"
     ]
    }
   ],
   "source": [
    "# Split X columns into categorical and numerical \n",
    "categorical_columns, numerical_columns = split_num_cat(df)\n",
    "print(f'Categorical columns : {categorical_columns} \\n')\n",
    "print(f'Numerical columns : {numerical_columns}')"
   ]
  },
  {
   "cell_type": "code",
   "execution_count": 11,
   "id": "98700b7b",
   "metadata": {},
   "outputs": [
    {
     "name": "stdout",
     "output_type": "stream",
     "text": [
      "Ignored columns : ['dewpt', 'clouds', 'vis', 'precip_rate', 'azimuth', 'elev_angle', 'snow_rate', 'ts', 'pres', 'wind_dir', 'slp', 'weather', 'timestamp_utc']\n"
     ]
    }
   ],
   "source": [
    "'''\n",
    "Selecte columns which will not be passed to forecasting models\n",
    "'''\n",
    "y_col = ['PV_Power']\n",
    "\n",
    "ignored_cols = ['dewpt', 'clouds', 'vis', 'precip_rate', 'azimuth', 'elev_angle', \n",
    "                'snow_rate', 'ts', 'pres', 'wind_dir', 'slp'] + categorical_columns \n",
    "print(f'Ignored columns : {ignored_cols}')"
   ]
  },
  {
   "cell_type": "code",
   "execution_count": 12,
   "id": "fbc15c7d",
   "metadata": {},
   "outputs": [
    {
     "name": "stdout",
     "output_type": "stream",
     "text": [
      "List of X columns: \n",
      "['solar_rad', 'ghi', 'dhi', 'dni', 'uv', 'rh', 'app_temp', 'temp', 'wind_spd', 'declination_angle', 'altitude_angle', 'azimuth_angle'] \n",
      "\n",
      "Total of X columns: \n",
      "12\n"
     ]
    }
   ],
   "source": [
    "# Split datasets by time\n",
    "training_set = df.sort_index().loc[:'2018-09'] # Training set (2 years and 9 months) = 68%\n",
    "val_set = df.sort_index().loc['2018-10':'2018-12'] # Validation set (3 months) = 7%\n",
    "test_set = df.sort_index().loc['2019':] # Test set (1 year) = 25%\n",
    "\n",
    "# Split `X` and `y`\n",
    "X_train, y_train = split_X_y(training_set, ignored_cols)\n",
    "X_val, y_val = split_X_y(val_set, ignored_cols)\n",
    "X_test, y_test = split_X_y(test_set, ignored_cols)\n",
    "\n",
    "\n",
    "X_cols = X_train.columns\n",
    "print(f'List of X columns: \\n{list(X_cols)} \\n')\n",
    "print(f'Total of X columns: \\n{len(X_cols)}')"
   ]
  },
  {
   "cell_type": "code",
   "execution_count": 13,
   "id": "74380288",
   "metadata": {},
   "outputs": [
    {
     "name": "stdout",
     "output_type": "stream",
     "text": [
      "\n",
      "    Training set is from 2016-01-04 06:00:00 to 2018-09-30 18:00:00 \n",
      "    Validation set is from 2018-10-01 06:00:00 to 2018-12-31 18:00:00 \n",
      "    Test set is from 2019-01-01 06:00:00 to 2019-12-31 18:00:00\n",
      "    \n"
     ]
    }
   ],
   "source": [
    "## Time peroid of each dataset. \n",
    "print(\n",
    "    f'''\n",
    "    Training set is from {X_train.index.min()} to {X_train.index.max()} \n",
    "    Validation set is from {X_val.index.min()} to {X_val.index.max()} \n",
    "    Test set is from {X_test.index.min()} to {X_test.index.max()}\n",
    "    ''')"
   ]
  },
  {
   "cell_type": "markdown",
   "id": "d98e5e5b",
   "metadata": {},
   "source": [
    "## 3. Rescale numerical columns"
   ]
  },
  {
   "cell_type": "code",
   "execution_count": 14,
   "id": "5616d758-0083-4194-8b66-12a5886d3f23",
   "metadata": {
    "tags": []
   },
   "outputs": [
    {
     "name": "stdout",
     "output_type": "stream",
     "text": [
      "Total of columns to rescale: \n",
      "9\n",
      "Columns to rescale are: ['solar_rad', 'ghi', 'dhi', 'dni', 'uv', 'rh', 'app_temp', 'temp', 'wind_spd'] \n",
      "\n"
     ]
    },
    {
     "data": {
      "text/plain": [
       "((44982, 12), (44982,), (4312, 12), (4312,), (16464, 12), (16464,))"
      ]
     },
     "execution_count": 14,
     "metadata": {},
     "output_type": "execute_result"
    }
   ],
   "source": [
    "from sklearn.compose import make_column_transformer\n",
    "from sklearn.preprocessing import OneHotEncoder, StandardScaler, MaxAbsScaler\n",
    "\n",
    "# Manage columns for Standardize processes\n",
    "non_std_cols = ['declination_angle', 'altitude_angle', 'azimuth_angle']\n",
    "\n",
    "selected_cols = list(map(lambda x : x not in non_std_cols, X_cols))\n",
    "std_cols = X_cols[selected_cols]\n",
    "print(f'Total of columns to rescale: \\n{len(std_cols)}')\n",
    "print(f'Columns to rescale are: {list(std_cols)} \\n')\n",
    "\n",
    "ct = make_column_transformer((MaxAbsScaler(), std_cols), remainder='passthrough')\n",
    "\n",
    "ct.fit(X_train)\n",
    "\n",
    "std_X_train = ct.transform(X_train)\n",
    "std_X_val = ct.transform(X_val)\n",
    "std_X_test = ct.transform(X_test)\n",
    "\n",
    "std_X_train.shape, y_train.shape, std_X_val.shape, y_val.shape, std_X_test.shape, y_test.shape"
   ]
  },
  {
   "cell_type": "code",
   "execution_count": 15,
   "id": "f4320b6d",
   "metadata": {},
   "outputs": [
    {
     "data": {
      "text/plain": [
       "(dtype('float32'),\n",
       " dtype('float32'),\n",
       " dtype('float32'),\n",
       " dtype('float32'),\n",
       " dtype('float32'),\n",
       " dtype('float32'))"
      ]
     },
     "execution_count": 15,
     "metadata": {},
     "output_type": "execute_result"
    }
   ],
   "source": [
    "'''\n",
    "Check data type of all dataset\n",
    "'''\n",
    "std_X_train.dtype, y_train.dtype, std_X_val.dtype, y_val.dtype, std_X_test.dtype, y_test.dtype"
   ]
  },
  {
   "cell_type": "code",
   "execution_count": 16,
   "id": "25dd4ba4",
   "metadata": {},
   "outputs": [
    {
     "name": "stdout",
     "output_type": "stream",
     "text": [
      "training set = 0.68\n",
      "validation set = 0.07\n",
      "test set = 0.25\n",
      "total datapoints = 65758\n"
     ]
    }
   ],
   "source": [
    "print(f\"training set = {np.round(std_X_train.shape[0] / df.shape[0], 2)}\")\n",
    "print(f\"validation set = {np.round(std_X_val.shape[0] / df.shape[0], 2)}\")\n",
    "print(f\"test set = {np.round(std_X_test.shape[0] / df.shape[0], 2)}\")\n",
    "print(f'total datapoints = {std_X_train.shape[0] + std_X_val.shape[0] + std_X_test.shape[0]}')"
   ]
  },
  {
   "cell_type": "code",
   "execution_count": 17,
   "id": "ef81189f",
   "metadata": {},
   "outputs": [
    {
     "name": "stdout",
     "output_type": "stream",
     "text": [
      "Total samples in a day = 49\n"
     ]
    }
   ],
   "source": [
    "'''\n",
    "Testing normalize process\n",
    "'''\n",
    "print(f'Total samples in a day = {df.loc[\"2016-01-04\"].shape[0]}')"
   ]
  },
  {
   "cell_type": "code",
   "execution_count": 18,
   "id": "76317707",
   "metadata": {},
   "outputs": [],
   "source": [
    "# pd.DataFrame(std_X_train).iloc[:147, 1].plot();"
   ]
  },
  {
   "cell_type": "markdown",
   "id": "b820ce69",
   "metadata": {},
   "source": [
    "# Setup environment and sequence data\n",
    "## 1. Check CPU and GPU available"
   ]
  },
  {
   "cell_type": "code",
   "execution_count": 19,
   "id": "0bc1849f",
   "metadata": {},
   "outputs": [
    {
     "name": "stdout",
     "output_type": "stream",
     "text": [
      "Num GPUs Available:  1\n",
      "Tensorflow version = 2.14.0-dev20230509\n"
     ]
    }
   ],
   "source": [
    "import tensorflow as tf\n",
    "from tensorflow import keras\n",
    "print(\"Num GPUs Available: \", len(tf.config.list_physical_devices('GPU')))\n",
    "print(\"Tensorflow version = \" + tf.__version__)"
   ]
  },
  {
   "cell_type": "markdown",
   "id": "376d70c6",
   "metadata": {},
   "source": [
    "## 2. Set random seed and state"
   ]
  },
  {
   "cell_type": "code",
   "execution_count": 20,
   "id": "34fc3be8",
   "metadata": {},
   "outputs": [],
   "source": [
    "import os, random\n",
    "import tensorflow as tf\n",
    "\n",
    "def set_seed(seed_value=20):\n",
    "    random.seed(seed_value)\n",
    "    np.random.seed(seed_value)\n",
    "    tf.random.set_seed(seed_value)\n",
    "    os.environ['PYTHONHASHSEED'] = str(seed_value)"
   ]
  },
  {
   "cell_type": "markdown",
   "id": "69dcf019",
   "metadata": {},
   "source": [
    "## 4. Sequence data (Multivariate) "
   ]
  },
  {
   "cell_type": "code",
   "execution_count": 21,
   "id": "1be998ea",
   "metadata": {},
   "outputs": [],
   "source": [
    "'''\n",
    "Historical data is recorded every 15 minutes (15 mins/sample). \n",
    "'''\n",
    "sequence_size = 5\n",
    "forecast_ahead = 10\n",
    "\n",
    "window_size = df.loc[\"2016-01-04\"].shape[0] * sequence_size\n",
    "forecast_range = df.loc[\"2016-01-04\"].shape[0] * (forecast_ahead-1)\n",
    "\n",
    "def sequenceData(Input, Output, window_size, forecast_range):\n",
    "    X, y = [], []\n",
    "    for i in range(len(Input) - window_size - forecast_range):\n",
    "        seq = i + window_size\n",
    "        X.append(Input[i:seq])\n",
    "        y.append(Output[seq + forecast_range])        \n",
    "    return np.array(X), np.array(y)\n",
    "\n",
    "seq_X_train, seq_y_train = sequenceData(std_X_train, y_train, window_size, forecast_range)\n",
    "seq_X_val, seq_y_val = sequenceData(std_X_val, y_val, window_size, forecast_range)\n",
    "seq_X_test, seq_y_test = sequenceData(std_X_test, y_test, window_size, forecast_range)"
   ]
  },
  {
   "cell_type": "markdown",
   "id": "cbebfe73",
   "metadata": {},
   "source": [
    "### Verify the sequence data\n",
    "\n",
    "* Between `2016-05-01` to `2016-05-30`, there are:  \n",
    "[ 1,  2,  3,  4,  5,  6,  7,  8,  9, 10, 11, 12, 13, 14, 15, 16, 17, 20, 21, 22, 23, 24, 25, 26, 27, 28, 29, 30]\n",
    "(No date 18 and 19)\n",
    "'''"
   ]
  },
  {
   "cell_type": "code",
   "execution_count": 22,
   "id": "cc0b7d21",
   "metadata": {},
   "outputs": [],
   "source": [
    "# sequence_size = 2\n",
    "# forecast_ahead = 2\n",
    "\n",
    "# window_size = df.loc[\"2016-01-04\"].shape[0] * sequence_size\n",
    "# forecast_range = df.loc[\"2016-01-04\"].shape[0] * (forecast_ahead-1)\n",
    "\n",
    "# XX, yy = sequenceData(X_train.loc['2016-05-01':'2016-05-30'].index, \n",
    "#                       y_train.loc['2016-05-01':'2016-05-30'].index, window_size, forecast_range)\n",
    "\n",
    "# yy[:10]"
   ]
  },
  {
   "cell_type": "code",
   "execution_count": 23,
   "id": "62a27c54",
   "metadata": {},
   "outputs": [],
   "source": [
    "# XX.shape, XX[1]"
   ]
  },
  {
   "cell_type": "markdown",
   "id": "66016a33",
   "metadata": {},
   "source": [
    "----------------"
   ]
  },
  {
   "cell_type": "code",
   "execution_count": 24,
   "id": "0d3b9add",
   "metadata": {
    "scrolled": true
   },
   "outputs": [
    {
     "name": "stdout",
     "output_type": "stream",
     "text": [
      "======== Data Shape ======== \n",
      "Training set: X = (44296, 245, 12), y = (44296,) \n",
      "Validation set: X = (3626, 245, 12), y = (3626,) \n",
      "Test set: X = (15778, 245, 12), y = (15778,) \n",
      "Total samples in a day = 49 \n",
      "window size = 245\n",
      "forecast ahead = 10 days\n"
     ]
    }
   ],
   "source": [
    "print('======== Data Shape ======== \\n'\n",
    "    f'Training set: X = {seq_X_train.shape}, y = {seq_y_train.shape} \\n'\n",
    "     f'Validation set: X = {seq_X_val.shape}, y = {seq_y_val.shape} \\n'\n",
    "     f'Test set: X = {seq_X_test.shape}, y = {seq_y_test.shape} \\n'\n",
    "      f'Total samples in a day = {df.loc[\"2016-01-04\"].shape[0]} \\n'\n",
    "     f'window size = {window_size}\\n'\n",
    "     f'forecast ahead = {forecast_ahead} days')\n",
    "\n",
    "total_X_cols = len(X_cols)"
   ]
  },
  {
   "cell_type": "markdown",
   "id": "4ac09589",
   "metadata": {},
   "source": [
    "# Building DL models"
   ]
  },
  {
   "cell_type": "markdown",
   "id": "1c07c0c2",
   "metadata": {},
   "source": [
    "## 2. `LSTM`"
   ]
  },
  {
   "cell_type": "code",
   "execution_count": 25,
   "id": "caee99ee",
   "metadata": {},
   "outputs": [
    {
     "name": "stderr",
     "output_type": "stream",
     "text": [
      "2024-02-20 20:59:21.444650: I tensorflow/core/common_runtime/gpu/gpu_device.cc:1639] Created device /job:localhost/replica:0/task:0/device:GPU:0 with 18211 MB memory:  -> device: 0, name: NVIDIA A100-PCIE-40GB MIG 3g.20gb, pci bus id: 0000:98:00.0, compute capability: 8.0\n"
     ]
    },
    {
     "name": "stdout",
     "output_type": "stream",
     "text": [
      "Model: \"LSTM_model\"\n",
      "_________________________________________________________________\n",
      " Layer (type)                Output Shape              Param #   \n",
      "=================================================================\n",
      " model_input (InputLayer)    [(None, 245, 12)]         0         \n",
      "                                                                 \n",
      " 1st_LSTM (LSTM)             (None, 245, 192)          157440    \n",
      "                                                                 \n",
      " 2nd_LSTM (LSTM)             (None, 96)                110976    \n",
      "                                                                 \n",
      " 1st_dense (Dense)           (None, 192)               18624     \n",
      "                                                                 \n",
      " 2nd_dense (Dense)           (None, 96)                18528     \n",
      "                                                                 \n",
      " 3rd_dense (Dense)           (None, 48)                4656      \n",
      "                                                                 \n",
      " batch_normalization (Batch  (None, 48)                192       \n",
      " Normalization)                                                  \n",
      "                                                                 \n",
      " dropout (Dropout)           (None, 48)                0         \n",
      "                                                                 \n",
      " model_output (Dense)        (None, 1)                 49        \n",
      "                                                                 \n",
      "=================================================================\n",
      "Total params: 310465 (1.18 MB)\n",
      "Trainable params: 310369 (1.18 MB)\n",
      "Non-trainable params: 96 (384.00 Byte)\n",
      "_________________________________________________________________\n"
     ]
    }
   ],
   "source": [
    "from keras import Model\n",
    "from keras.layers import Dense, LSTM, BatchNormalization, Dropout, Reshape, Input, Activation\n",
    "from keras.optimizers import SGD, Adam\n",
    "from keras.callbacks import ReduceLROnPlateau\n",
    "from keras.metrics import RootMeanSquaredError\n",
    "\n",
    "set_seed()\n",
    "input_shape = seq_X_train.shape[1:]\n",
    "\n",
    "# Structure model\n",
    "inputs = Input(shape=input_shape, name='model_input')\n",
    "\n",
    "x = LSTM(192, return_sequences=True, activation='tanh', dropout=0.1, name='1st_LSTM')(inputs)\n",
    "x = LSTM(96, activation='tanh', dropout=0.1, name='2nd_LSTM')(x)\n",
    "x = Dense(192, activation='relu', name='1st_dense')(x)\n",
    "x = Dense(96, activation='relu', name='2nd_dense')(x)\n",
    "x = Dense(48, activation='relu', name='3rd_dense')(x)\n",
    "x = BatchNormalization()(x)\n",
    "x = Dropout(0.1)(x)\n",
    "\n",
    "output = Dense(1, activation='relu', name='model_output')(x)\n",
    "LSTM_model = Model(inputs=inputs, outputs=output, name='LSTM_model')\n",
    "\n",
    "# Configure optimizer\n",
    "lr_scheduler = tf.keras.optimizers.schedules.InverseTimeDecay(0.001, decay_rate=1e-6, decay_steps=1, staircase=False)\n",
    "opt = Adam(learning_rate=lr_scheduler)\n",
    "\n",
    "# Define an optimizer and loss metric\n",
    "LSTM_model.compile(optimizer=opt, loss='mean_absolute_error', metrics=['mean_absolute_error'])\n",
    "\n",
    "LSTM_model.summary()"
   ]
  },
  {
   "cell_type": "code",
   "execution_count": null,
   "id": "4af39e41",
   "metadata": {
    "scrolled": true
   },
   "outputs": [
    {
     "name": "stdout",
     "output_type": "stream",
     "text": [
      "Epoch 1/15\n"
     ]
    },
    {
     "name": "stderr",
     "output_type": "stream",
     "text": [
      "2024-02-20 21:00:28.341280: I tensorflow/compiler/xla/stream_executor/cuda/cuda_dnn.cc:434] Loaded cuDNN version 8600\n",
      "2024-02-20 21:00:31.409525: I tensorflow/compiler/xla/stream_executor/cuda/cuda_blas.cc:606] TensorFloat-32 will be used for the matrix multiplication. This will only be logged once.\n",
      "2024-02-20 21:00:34.243381: I tensorflow/compiler/xla/service/service.cc:168] XLA service 0x7f6fcc515df0 initialized for platform CUDA (this does not guarantee that XLA will be used). Devices:\n",
      "2024-02-20 21:00:34.243538: I tensorflow/compiler/xla/service/service.cc:176]   StreamExecutor device (0): NVIDIA A100-PCIE-40GB MIG 3g.20gb, Compute Capability 8.0\n",
      "2024-02-20 21:00:35.962755: I tensorflow/compiler/mlir/tensorflow/utils/dump_mlir_util.cc:255] disabling MLIR crash reproducer, set env var `MLIR_CRASH_REPRODUCER_DIRECTORY` to enable.\n",
      "2024-02-20 21:00:40.739462: I ./tensorflow/compiler/jit/device_compiler.h:186] Compiled cluster using XLA!  This line is logged at most once for the lifetime of the process.\n"
     ]
    },
    {
     "name": "stdout",
     "output_type": "stream",
     "text": [
      "1385/1385 [==============================] - 83s 36ms/step - loss: 2895.3770 - mean_absolute_error: 2895.3770 - val_loss: 2270.1335 - val_mean_absolute_error: 2270.1335\n",
      "Epoch 2/15\n",
      "1385/1385 [==============================] - 44s 30ms/step - loss: 2491.2715 - mean_absolute_error: 2491.2715 - val_loss: 1640.8348 - val_mean_absolute_error: 1640.8348\n",
      "Epoch 3/15\n",
      "1385/1385 [==============================] - 35s 24ms/step - loss: 1907.3088 - mean_absolute_error: 1907.3088 - val_loss: 1182.5052 - val_mean_absolute_error: 1182.5052\n",
      "Epoch 4/15\n",
      "1385/1385 [==============================] - 35s 24ms/step - loss: 1391.0632 - mean_absolute_error: 1391.0632 - val_loss: 994.2938 - val_mean_absolute_error: 994.2938\n",
      "Epoch 5/15\n",
      "1385/1385 [==============================] - 35s 24ms/step - loss: 1112.3440 - mean_absolute_error: 1112.3440 - val_loss: 878.0134 - val_mean_absolute_error: 878.0134\n",
      "Epoch 6/15\n",
      "1385/1385 [==============================] - 42s 29ms/step - loss: 1042.1870 - mean_absolute_error: 1042.1870 - val_loss: 817.9011 - val_mean_absolute_error: 817.9011\n",
      "Epoch 7/15\n",
      "1385/1385 [==============================] - 41s 29ms/step - loss: 1028.2247 - mean_absolute_error: 1028.2247 - val_loss: 789.4503 - val_mean_absolute_error: 789.4503\n",
      "Epoch 8/15\n",
      "1385/1385 [==============================] - 35s 24ms/step - loss: 1021.0264 - mean_absolute_error: 1021.0264 - val_loss: 775.0093 - val_mean_absolute_error: 775.0093\n",
      "Epoch 9/15\n",
      "1385/1385 [==============================] - 35s 24ms/step - loss: 1021.3051 - mean_absolute_error: 1021.3051 - val_loss: 811.3964 - val_mean_absolute_error: 811.3964\n",
      "Epoch 10/15\n",
      "1385/1385 [==============================] - 35s 24ms/step - loss: 1018.6904 - mean_absolute_error: 1018.6904 - val_loss: 950.4890 - val_mean_absolute_error: 950.4890\n",
      "Epoch 11/15\n",
      "1385/1385 [==============================] - ETA: 0s - loss: 1010.5126 - mean_absolute_error: 1010.5126"
     ]
    }
   ],
   "source": [
    "set_seed()\n",
    "'''\n",
    "===================\n",
    "Initial train model \n",
    "===================\n",
    "'''\n",
    "init_epochs = 15\n",
    "Batch = 32\n",
    "\n",
    "with tf.device('/GPU:0'):\n",
    "    LSTM_history = LSTM_model.fit(x=seq_X_train, y=seq_y_train,\n",
    "                                  epochs=init_epochs, batch_size=Batch,\n",
    "                                  validation_data=(seq_X_val, seq_y_val), verbose=1)"
   ]
  },
  {
   "cell_type": "code",
   "execution_count": null,
   "id": "edf7798c",
   "metadata": {
    "scrolled": false
   },
   "outputs": [],
   "source": [
    "set_seed()\n",
    "\n",
    "'''\n",
    "=====================================\n",
    "Train model with callbacks functions\n",
    "=====================================\n",
    "'''\n",
    "# checkpoint_epochs = init_epochs + 20\n",
    "# Batch = 32\n",
    "\n",
    "# with tf.device('/GPU:0'):\n",
    "#     LSTM_checkpoint_history = LSTM_model.fit(x=UniSeq_X_train, y=UniSeq_y_train,\n",
    "#                                              epochs=checkpoint_epochs, initial_epoch=init_epochs,\n",
    "#                                              batch_size=Batch, validation_data=(UniSeq_X_val, UniSeq_y_val),\n",
    "#                                              verbose=1, callbacks=[early_stop('val_loss', 3), \n",
    "#                                                                  model_checkpoint('seq_LSTM')])"
   ]
  },
  {
   "cell_type": "markdown",
   "id": "0112b89a",
   "metadata": {},
   "source": [
    "### Saved model\n"
   ]
  },
  {
   "cell_type": "code",
   "execution_count": 36,
   "id": "8b90c46f",
   "metadata": {},
   "outputs": [],
   "source": [
    "# Save the model\n",
    "LSTM_model.save('saved_models/LSTM_model_paper_version')\n",
    "\n",
    "# load the model\n",
    "# LSTM_model = keras.models.load_model('saved_models/LSTM_model2')"
   ]
  },
  {
   "cell_type": "markdown",
   "id": "79d91d2f",
   "metadata": {},
   "source": [
    "## Forecast and evaluation results"
   ]
  },
  {
   "cell_type": "markdown",
   "id": "27344123",
   "metadata": {},
   "source": [
    "### PV power forecasting"
   ]
  },
  {
   "cell_type": "code",
   "execution_count": 37,
   "id": "4bdd18da",
   "metadata": {},
   "outputs": [
    {
     "name": "stdout",
     "output_type": "stream",
     "text": [
      "114/114 [==============================] - 6s 25ms/step\n",
      "494/494 [==============================] - 5s 8ms/step\n"
     ]
    }
   ],
   "source": [
    "LSTM_val_result = forecasting_result(LSTM_model, seq_X_val)\n",
    "LSTM_test_result = forecasting_result(LSTM_model, seq_X_test)"
   ]
  },
  {
   "cell_type": "code",
   "execution_count": 38,
   "id": "7d0cbea0",
   "metadata": {},
   "outputs": [
    {
     "name": "stdout",
     "output_type": "stream",
     "text": [
      "Mean Absolute Error = 816.38 W \n",
      "Root Mean Squared Error = 1250.55 W \n",
      "Mean Bias Error = 302.39 W \n",
      " \n",
      "Normalized_MAE (installed_Power) = 8.16% \n",
      "Normalized_RMSE (installed_Power) = 12.51% \n",
      " \n",
      "Normalized_MAE (avg_Power) = 32.91% \n",
      "Normalized_RMSE (avg_Power) = 50.41% \n",
      " \n",
      "Peak PV output power (from y_test) = 7647.67 W \n",
      "Average PV output power (from y_test) = 2480.68 W\n"
     ]
    }
   ],
   "source": [
    "LSTM_val_scores = show_scores(LSTM_val_result, seq_y_val)"
   ]
  },
  {
   "cell_type": "code",
   "execution_count": 40,
   "id": "da1993d6",
   "metadata": {
    "scrolled": true
   },
   "outputs": [
    {
     "name": "stdout",
     "output_type": "stream",
     "text": [
      "Mean Absolute Error = 888.67 W \n",
      "Root Mean Squared Error = 1255.30 W \n",
      "Mean Bias Error = -6.13 W \n",
      " \n",
      "Normalized_MAE (installed_Power) = 8.89% \n",
      "Normalized_RMSE (installed_Power) = 12.55% \n",
      " \n",
      "Normalized_MAE (avg_Power) = 28.73% \n",
      "Normalized_RMSE (avg_Power) = 40.58% \n",
      " \n",
      "Peak PV output power (from y_test) = 9875.00 W \n",
      "Average PV output power (from y_test) = 3093.70 W\n"
     ]
    }
   ],
   "source": [
    "LSTM_test_scores = show_scores(LSTM_test_result, seq_y_test)"
   ]
  },
  {
   "cell_type": "markdown",
   "id": "2da5beac",
   "metadata": {},
   "source": [
    "## Plot loss vs Epochs"
   ]
  },
  {
   "cell_type": "code",
   "execution_count": 41,
   "id": "9bc41ab2",
   "metadata": {
    "scrolled": false
   },
   "outputs": [
    {
     "data": {
      "image/png": "[encoded data removed]",
      "text/plain": [
       "<Figure size 1500x400 with 1 Axes>"
      ]
     },
     "metadata": {},
     "output_type": "display_data"
    }
   ],
   "source": [
    "loss_acc_epochs(LSTM_history, 'LSTM', 'MAE')"
   ]
  },
  {
   "cell_type": "code",
   "execution_count": 42,
   "id": "421c4d3d",
   "metadata": {},
   "outputs": [],
   "source": [
    "# Save loss vs epoch\n",
    "# pd.DataFrame(LSTM_history.history).to_csv('data_for_report/LSTM_loss_epoch (10 epochs - sun_position).csv')"
   ]
  },
  {
   "cell_type": "code",
   "execution_count": 43,
   "id": "be0e62a8",
   "metadata": {},
   "outputs": [],
   "source": [
    "# plot_pv(LSTM_val_result, y_val[(window_size + forecast_range):], 'LSTM', {'year':2018, 'month':11, 'start':22, 'end':25})"
   ]
  },
  {
   "cell_type": "code",
   "execution_count": 51,
   "id": "3f6b2bfd",
   "metadata": {
    "scrolled": false
   },
   "outputs": [
    {
     "data": {
      "image/png": "[encoded data removed]",
      "text/plain": [
       "<Figure size 1500x800 with 1 Axes>"
      ]
     },
     "metadata": {},
     "output_type": "display_data"
    }
   ],
   "source": [
    "plot_pv(LSTM_test_result, y_test[(window_size + forecast_range):], 'LSTM', {'year':2019, 'month':5, 'start':3, 'end':8})"
   ]
  },
  {
   "cell_type": "code",
   "execution_count": 52,
   "id": "c59932ac",
   "metadata": {},
   "outputs": [
    {
     "data": {
      "text/plain": [
       "6405.7163"
      ]
     },
     "execution_count": 52,
     "metadata": {},
     "output_type": "execute_result"
    }
   ],
   "source": [
    "LSTM_test_result.max()"
   ]
  },
  {
   "cell_type": "markdown",
   "id": "90872e5f",
   "metadata": {},
   "source": [
    "## 3. CNN + LSTM"
   ]
  },
  {
   "cell_type": "code",
   "execution_count": 25,
   "id": "973aae11",
   "metadata": {},
   "outputs": [
    {
     "name": "stdout",
     "output_type": "stream",
     "text": [
      "======== Data Shape ======== \n",
      "Training set: X = (44296, 245, 12), y = (44296,) \n",
      "Validation set: X = (3626, 245, 12), y = (3626,) \n",
      "Test set: X = (15778, 245, 12), y = (15778,) \n",
      "Total samples in a day = 49 \n",
      "window size = 245\n",
      "forecast ahead = 10 days\n"
     ]
    }
   ],
   "source": [
    "print('======== Data Shape ======== \\n'\n",
    "    f'Training set: X = {seq_X_train.shape}, y = {seq_y_train.shape} \\n'\n",
    "     f'Validation set: X = {seq_X_val.shape}, y = {seq_y_val.shape} \\n'\n",
    "     f'Test set: X = {seq_X_test.shape}, y = {seq_y_test.shape} \\n'\n",
    "      f'Total samples in a day = {df.loc[\"2016-01-04\"].shape[0]} \\n'\n",
    "     f'window size = {window_size}\\n'\n",
    "     f'forecast ahead = {forecast_ahead} days')"
   ]
  },
  {
   "cell_type": "code",
   "execution_count": 26,
   "id": "98098a91",
   "metadata": {},
   "outputs": [
    {
     "name": "stderr",
     "output_type": "stream",
     "text": [
      "2024-01-09 18:43:41.425393: I tensorflow/core/common_runtime/gpu/gpu_device.cc:1639] Created device /job:localhost/replica:0/task:0/device:GPU:0 with 1071 MB memory:  -> device: 0, name: NVIDIA A100-PCIE-40GB MIG 3g.20gb, pci bus id: 0000:98:00.0, compute capability: 8.0\n"
     ]
    },
    {
     "name": "stdout",
     "output_type": "stream",
     "text": [
      "Model: \"CNNLSTM_model\"\n",
      "_________________________________________________________________\n",
      " Layer (type)                Output Shape              Param #   \n",
      "=================================================================\n",
      " model_input (InputLayer)    [(None, 245, 12, 1)]      0         \n",
      "                                                                 \n",
      " 1st_Conv2D (Conv2D)         (None, 245, 10, 32)       128       \n",
      "                                                                 \n",
      " 2nd_Conv2D (Conv2D)         (None, 245, 8, 1)         97        \n",
      "                                                                 \n",
      " reshape (Reshape)           (None, 245, 8)            0         \n",
      "                                                                 \n",
      " 1st_LSTM (LSTM)             (None, 245, 96)           40320     \n",
      "                                                                 \n",
      " 2nd_LSTM (LSTM)             (None, 48)                27840     \n",
      "                                                                 \n",
      " 1st_dense (Dense)           (None, 64)                3136      \n",
      "                                                                 \n",
      " 2nd_dense (Dense)           (None, 32)                2080      \n",
      "                                                                 \n",
      " batch_normalization (Batch  (None, 32)                128       \n",
      " Normalization)                                                  \n",
      "                                                                 \n",
      " dropout (Dropout)           (None, 32)                0         \n",
      "                                                                 \n",
      " model_output (Dense)        (None, 1)                 33        \n",
      "                                                                 \n",
      "=================================================================\n",
      "Total params: 73762 (288.13 KB)\n",
      "Trainable params: 73698 (287.88 KB)\n",
      "Non-trainable params: 64 (256.00 Byte)\n",
      "_________________________________________________________________\n"
     ]
    }
   ],
   "source": [
    "from keras import Model\n",
    "from keras.layers import Dense, LSTM, BatchNormalization, Dropout, Conv1D, Reshape, Input, Activation, Conv2D\n",
    "from keras.optimizers import SGD, Adam\n",
    "from keras.callbacks import ReduceLROnPlateau\n",
    "from keras.metrics import RootMeanSquaredError\n",
    "\n",
    "\n",
    "set_seed()\n",
    "\n",
    "# Structure model\n",
    "inputs = Input(shape=(*seq_X_train.shape[1:], 1), name='model_input')\n",
    "\n",
    "## Conv2D\n",
    "x = Conv2D(32, kernel_size=(1, 3), strides=(1, 1), padding='valid', activation='relu', name='1st_Conv2D')(inputs)\n",
    "x = Conv2D(1, kernel_size=(1, 3), strides=(1, 1), padding='valid', activation='relu', name='2nd_Conv2D')(x)\n",
    "x = Reshape(target_shape=(x.shape[1:-1]))(x)\n",
    "# print('shape before passing to LSTM layers = ', x.shape)\n",
    "\n",
    "## LSTM and Dense\n",
    "x = LSTM(96, return_sequences=True, activation='tanh', dropout=0.1, name='1st_LSTM')(x)\n",
    "x = LSTM(48, activation='tanh', dropout=0.1, name='2nd_LSTM')(x)\n",
    "x = Dense(64, activation='relu', name='1st_dense')(x)\n",
    "x = Dense(32, activation='relu', name='2nd_dense')(x)\n",
    "# x = Dense(48, activation='relu', name='3rd_dense')(x)\n",
    "x = BatchNormalization()(x)\n",
    "x = Dropout(0.1)(x)\n",
    "\n",
    "# x = LSTM(96, return_sequences=True, activation='tanh', dropout=0.2, name='1st_LSTM')(x)\n",
    "# x = LSTM(48, activation='tanh', dropout=0.1, name='2nd_LSTM')(x)\n",
    "# x = Dense(96, activation='relu', name='1st_dense')(x)\n",
    "# x = BatchNormalization()(x)\n",
    "# x = Dropout(0.2)(x)\n",
    "# x = Dense(48, activation='relu', name='2nd_dense')(x)\n",
    "# x = BatchNormalization()(x)\n",
    "# x = Dropout(0.1)(x)\n",
    "\n",
    "output = Dense(1, activation='relu', name='model_output')(x)\n",
    "CNNLSTM_model = Model(inputs=inputs, outputs=output, name='CNNLSTM_model')\n",
    "\n",
    "# Configure optimizer\n",
    "lr_scheduler = tf.keras.optimizers.schedules.InverseTimeDecay(0.001, decay_rate=1e-6, decay_steps=1, staircase=False)\n",
    "opt = Adam(learning_rate=lr_scheduler)\n",
    "\n",
    "# define an optimizer and loss measure\n",
    "CNNLSTM_model.compile(optimizer=opt, loss='mean_absolute_error', metrics=['mean_absolute_error'])\n",
    "\n",
    "CNNLSTM_model.summary()"
   ]
  },
  {
   "cell_type": "code",
   "execution_count": 27,
   "id": "81ea04bd",
   "metadata": {
    "scrolled": true
   },
   "outputs": [
    {
     "name": "stdout",
     "output_type": "stream",
     "text": [
      "Epoch 1/20\n"
     ]
    },
    {
     "name": "stderr",
     "output_type": "stream",
     "text": [
      "2024-01-09 18:45:12.075705: I tensorflow/compiler/xla/stream_executor/cuda/cuda_dnn.cc:434] Loaded cuDNN version 8600\n",
      "2024-01-09 18:45:27.163200: I tensorflow/compiler/xla/stream_executor/cuda/cuda_blas.cc:606] TensorFloat-32 will be used for the matrix multiplication. This will only be logged once.\n",
      "2024-01-09 18:45:29.982482: I tensorflow/compiler/xla/service/service.cc:168] XLA service 0x7fee58035c50 initialized for platform CUDA (this does not guarantee that XLA will be used). Devices:\n",
      "2024-01-09 18:45:29.983402: I tensorflow/compiler/xla/service/service.cc:176]   StreamExecutor device (0): NVIDIA A100-PCIE-40GB MIG 3g.20gb, Compute Capability 8.0\n",
      "2024-01-09 18:45:32.156829: I tensorflow/compiler/mlir/tensorflow/utils/dump_mlir_util.cc:255] disabling MLIR crash reproducer, set env var `MLIR_CRASH_REPRODUCER_DIRECTORY` to enable.\n",
      "2024-01-09 18:45:38.656893: I ./tensorflow/compiler/jit/device_compiler.h:186] Compiled cluster using XLA!  This line is logged at most once for the lifetime of the process.\n",
      "2024-01-09 18:46:02.975644: W tensorflow/tsl/framework/bfc_allocator.cc:296] Allocator (GPU_0_bfc) ran out of memory trying to allocate 532.00MiB with freed_by_count=0. The caller indicates that this is not a failure, but this may mean that there could be performance gains if more memory were available.\n"
     ]
    },
    {
     "name": "stdout",
     "output_type": "stream",
     "text": [
      "1385/1385 [==============================] - ETA: 0s - loss: 2916.9280 - mean_absolute_error: 2916.9280"
     ]
    },
    {
     "name": "stderr",
     "output_type": "stream",
     "text": [
      "2024-01-09 18:47:04.910906: W tensorflow/tsl/framework/bfc_allocator.cc:296] Allocator (GPU_0_bfc) ran out of memory trying to allocate 557.70MiB with freed_by_count=0. The caller indicates that this is not a failure, but this may mean that there could be performance gains if more memory were available.\n"
     ]
    },
    {
     "name": "stdout",
     "output_type": "stream",
     "text": [
      "1385/1385 [==============================] - 133s 45ms/step - loss: 2916.9280 - mean_absolute_error: 2916.9280 - val_loss: 2306.8772 - val_mean_absolute_error: 2306.8772\n",
      "Epoch 2/20\n",
      "1385/1385 [==============================] - 46s 30ms/step - loss: 2629.2419 - mean_absolute_error: 2629.2419 - val_loss: 1921.2405 - val_mean_absolute_error: 1921.2405\n",
      "Epoch 3/20\n",
      "1385/1385 [==============================] - 49s 34ms/step - loss: 2191.1294 - mean_absolute_error: 2191.1294 - val_loss: 1460.7965 - val_mean_absolute_error: 1460.7965\n",
      "Epoch 4/20\n",
      "1385/1385 [==============================] - 46s 32ms/step - loss: 1725.3895 - mean_absolute_error: 1725.3895 - val_loss: 1126.2216 - val_mean_absolute_error: 1126.2216\n",
      "Epoch 5/20\n",
      "1385/1385 [==============================] - 47s 32ms/step - loss: 1336.5168 - mean_absolute_error: 1336.5168 - val_loss: 816.9549 - val_mean_absolute_error: 816.9549\n",
      "Epoch 6/20\n",
      "1385/1385 [==============================] - 52s 36ms/step - loss: 1111.3864 - mean_absolute_error: 1111.3864 - val_loss: 785.8266 - val_mean_absolute_error: 785.8266\n",
      "Epoch 7/20\n",
      "1385/1385 [==============================] - 54s 38ms/step - loss: 1039.2632 - mean_absolute_error: 1039.2632 - val_loss: 794.9856 - val_mean_absolute_error: 794.9856\n",
      "Epoch 8/20\n",
      "1385/1385 [==============================] - 44s 30ms/step - loss: 1020.8337 - mean_absolute_error: 1020.8337 - val_loss: 769.9280 - val_mean_absolute_error: 769.9280\n",
      "Epoch 9/20\n",
      "1385/1385 [==============================] - 43s 29ms/step - loss: 1021.7311 - mean_absolute_error: 1021.7311 - val_loss: 797.6659 - val_mean_absolute_error: 797.6659\n",
      "Epoch 10/20\n",
      "1385/1385 [==============================] - 47s 32ms/step - loss: 1012.8211 - mean_absolute_error: 1012.8211 - val_loss: 850.2483 - val_mean_absolute_error: 850.2483\n",
      "Epoch 11/20\n",
      "1385/1385 [==============================] - 54s 37ms/step - loss: 1007.6907 - mean_absolute_error: 1007.6907 - val_loss: 794.0579 - val_mean_absolute_error: 794.0579\n",
      "Epoch 12/20\n",
      "1385/1385 [==============================] - 48s 33ms/step - loss: 1010.1036 - mean_absolute_error: 1010.1036 - val_loss: 776.9098 - val_mean_absolute_error: 776.9098\n",
      "Epoch 13/20\n",
      "1385/1385 [==============================] - 48s 32ms/step - loss: 1008.3470 - mean_absolute_error: 1008.3470 - val_loss: 757.7414 - val_mean_absolute_error: 757.7414\n",
      "Epoch 14/20\n",
      "1385/1385 [==============================] - 48s 33ms/step - loss: 1006.3766 - mean_absolute_error: 1006.3766 - val_loss: 734.2235 - val_mean_absolute_error: 734.2235\n",
      "Epoch 15/20\n",
      "1385/1385 [==============================] - 47s 32ms/step - loss: 1004.9885 - mean_absolute_error: 1004.9885 - val_loss: 830.9380 - val_mean_absolute_error: 830.9380\n",
      "Epoch 16/20\n",
      "1385/1385 [==============================] - 67s 46ms/step - loss: 1001.5256 - mean_absolute_error: 1001.5256 - val_loss: 853.4509 - val_mean_absolute_error: 853.4509\n",
      "Epoch 17/20\n",
      "1385/1385 [==============================] - 47s 32ms/step - loss: 998.6616 - mean_absolute_error: 998.6616 - val_loss: 767.3548 - val_mean_absolute_error: 767.3548\n",
      "Epoch 18/20\n",
      "1385/1385 [==============================] - 47s 32ms/step - loss: 996.9432 - mean_absolute_error: 996.9432 - val_loss: 732.0778 - val_mean_absolute_error: 732.0778\n",
      "Epoch 19/20\n",
      "1385/1385 [==============================] - 62s 43ms/step - loss: 998.0373 - mean_absolute_error: 998.0373 - val_loss: 872.4644 - val_mean_absolute_error: 872.4644\n",
      "Epoch 20/20\n",
      "1385/1385 [==============================] - 43s 29ms/step - loss: 1004.5604 - mean_absolute_error: 1004.5604 - val_loss: 828.0317 - val_mean_absolute_error: 828.0317\n"
     ]
    }
   ],
   "source": [
    "set_seed()\n",
    "'''\n",
    "===================\n",
    "Initial train model \n",
    "===================\n",
    "'''\n",
    "init_epochs = 20\n",
    "Batch = 32\n",
    "\n",
    "with tf.device('/GPU:0'):\n",
    "    CNNLSTM_history = CNNLSTM_model.fit(x=seq_X_train, y=seq_y_train,\n",
    "                                        epochs=init_epochs, batch_size=Batch,\n",
    "                                        validation_data=(seq_X_val, seq_y_val), verbose=1)"
   ]
  },
  {
   "cell_type": "markdown",
   "id": "6ae1ef11",
   "metadata": {},
   "source": [
    "### Saved model\n"
   ]
  },
  {
   "cell_type": "code",
   "execution_count": 28,
   "id": "e82a4097",
   "metadata": {},
   "outputs": [],
   "source": [
    "# Save the model\n",
    "# CLSTM_model.save('saved_models/CLSTM_model3')\n",
    "\n",
    "# load the model\n",
    "# CLSTM_model = keras.models.load_model('saved_models/CLSTM_model2')"
   ]
  },
  {
   "cell_type": "markdown",
   "id": "d7c3f414",
   "metadata": {},
   "source": [
    "## Forecast and evaluation results"
   ]
  },
  {
   "cell_type": "markdown",
   "id": "bbca0bff",
   "metadata": {},
   "source": [
    "### PV power forecasting"
   ]
  },
  {
   "cell_type": "code",
   "execution_count": 29,
   "id": "a40fb233",
   "metadata": {
    "scrolled": false
   },
   "outputs": [
    {
     "name": "stdout",
     "output_type": "stream",
     "text": [
      "114/114 [==============================] - 17s 80ms/step\n",
      "494/494 [==============================] - 34s 62ms/step\n"
     ]
    }
   ],
   "source": [
    "CNNLSTM_val_result = forecasting_result(CNNLSTM_model, seq_X_val)\n",
    "CNNLSTM_test_result = forecasting_result(CNNLSTM_model, seq_X_test)"
   ]
  },
  {
   "cell_type": "code",
   "execution_count": 30,
   "id": "7d060e6a",
   "metadata": {},
   "outputs": [
    {
     "name": "stdout",
     "output_type": "stream",
     "text": [
      "Mean Absolute Error = 828.03 W \n",
      "Root Mean Squared Error = 1305.73 W \n",
      "Mean Bias Error = 563.23 W \n",
      " \n",
      "Normalized_MAE (installed_Power) = 8.28% \n",
      "Normalized_RMSE (installed_Power) = 13.06% \n",
      " \n",
      "Normalized_MAE (avg_Power) = 33.38% \n",
      "Normalized_RMSE (avg_Power) = 52.64% \n",
      " \n",
      "Peak PV output power (from y_test) = 7647.67 W \n",
      "Average PV output power (from y_test) = 2480.68 W\n"
     ]
    }
   ],
   "source": [
    "CNNLSTM_val_scores = show_scores(CNNLSTM_val_result, seq_y_val)"
   ]
  },
  {
   "cell_type": "code",
   "execution_count": 31,
   "id": "9d52353b",
   "metadata": {
    "scrolled": true
   },
   "outputs": [
    {
     "name": "stdout",
     "output_type": "stream",
     "text": [
      "Mean Absolute Error = 856.13 W \n",
      "Root Mean Squared Error = 1230.02 W \n",
      "Mean Bias Error = 62.85 W \n",
      " \n",
      "Normalized_MAE (installed_Power) = 8.56% \n",
      "Normalized_RMSE (installed_Power) = 12.30% \n",
      " \n",
      "Normalized_MAE (avg_Power) = 27.67% \n",
      "Normalized_RMSE (avg_Power) = 39.76% \n",
      " \n",
      "Peak PV output power (from y_test) = 9875.00 W \n",
      "Average PV output power (from y_test) = 3093.70 W\n"
     ]
    }
   ],
   "source": [
    "CNNLSTM_test_scores = show_scores(CNNLSTM_test_result, seq_y_test)"
   ]
  },
  {
   "cell_type": "markdown",
   "id": "3ab948c2",
   "metadata": {},
   "source": [
    "## Plot loss vs Epochs"
   ]
  },
  {
   "cell_type": "code",
   "execution_count": 32,
   "id": "60cd94bb",
   "metadata": {},
   "outputs": [
    {
     "data": {
      "image/png": "[encoded data removed]",
      "text/plain": [
       "<Figure size 1500x400 with 1 Axes>"
      ]
     },
     "metadata": {},
     "output_type": "display_data"
    }
   ],
   "source": [
    "loss_acc_epochs(CNNLSTM_history, 'CNN + LSTM', 'RMSE')"
   ]
  },
  {
   "cell_type": "code",
   "execution_count": 77,
   "id": "d15b4f05",
   "metadata": {},
   "outputs": [],
   "source": [
    "# Save loss vs epoch\n",
    "# pd.DataFrame(CLSTM_history.history).to_csv('data_for_report/CLSTM_loss_epoch (10 epochs - sun_position).csv')"
   ]
  },
  {
   "cell_type": "code",
   "execution_count": 78,
   "id": "5477a2a9",
   "metadata": {},
   "outputs": [],
   "source": [
    "# plot_pv(CNNLSTM_val_result, y_val[(window_size + forecast_range):], 'CNN + LSTM', {'year':2018, 'month':11, 'start':3, 'end':8})"
   ]
  },
  {
   "cell_type": "code",
   "execution_count": 33,
   "id": "51f59303",
   "metadata": {
    "scrolled": false
   },
   "outputs": [
    {
     "data": {
      "image/png": "[encoded data removed]",
      "text/plain": [
       "<Figure size 1500x800 with 1 Axes>"
      ]
     },
     "metadata": {},
     "output_type": "display_data"
    }
   ],
   "source": [
    "plot_pv(CNNLSTM_test_result, y_test[(window_size + forecast_range):], 'CNN + LSTM', {'year':2019, 'month':12, 'start':3, 'end':8})"
   ]
  },
  {
   "cell_type": "code",
   "execution_count": 34,
   "id": "7b419c20",
   "metadata": {},
   "outputs": [
    {
     "data": {
      "text/plain": [
       "6276.3716"
      ]
     },
     "execution_count": 34,
     "metadata": {},
     "output_type": "execute_result"
    }
   ],
   "source": [
    "CNNLSTM_test_result.max()"
   ]
  },
  {
   "cell_type": "code",
   "execution_count": 38,
   "id": "3e68e225",
   "metadata": {},
   "outputs": [
    {
     "data": {
      "text/html": [
       "<div>\n",
       "<style scoped>\n",
       "    .dataframe tbody tr th:only-of-type {\n",
       "        vertical-align: middle;\n",
       "    }\n",
       "\n",
       "    .dataframe tbody tr th {\n",
       "        vertical-align: top;\n",
       "    }\n",
       "\n",
       "    .dataframe thead th {\n",
       "        text-align: right;\n",
       "    }\n",
       "</style>\n",
       "<table border=\"1\" class=\"dataframe\">\n",
       "  <thead>\n",
       "    <tr style=\"text-align: right;\">\n",
       "      <th></th>\n",
       "      <th>Actual</th>\n",
       "      <th>CNN+LSTM</th>\n",
       "    </tr>\n",
       "    <tr>\n",
       "      <th>timestamp</th>\n",
       "      <th></th>\n",
       "      <th></th>\n",
       "    </tr>\n",
       "  </thead>\n",
       "  <tbody>\n",
       "    <tr>\n",
       "      <th>2019-01-19 06:00:00</th>\n",
       "      <td>0.000000</td>\n",
       "      <td>0.000000</td>\n",
       "    </tr>\n",
       "    <tr>\n",
       "      <th>2019-01-19 06:15:00</th>\n",
       "      <td>0.000000</td>\n",
       "      <td>0.000000</td>\n",
       "    </tr>\n",
       "    <tr>\n",
       "      <th>2019-01-19 06:30:00</th>\n",
       "      <td>0.000000</td>\n",
       "      <td>0.000000</td>\n",
       "    </tr>\n",
       "    <tr>\n",
       "      <th>2019-01-19 06:45:00</th>\n",
       "      <td>1.333333</td>\n",
       "      <td>0.000000</td>\n",
       "    </tr>\n",
       "    <tr>\n",
       "      <th>2019-01-19 07:00:00</th>\n",
       "      <td>11.000000</td>\n",
       "      <td>0.000000</td>\n",
       "    </tr>\n",
       "    <tr>\n",
       "      <th>2019-01-19 07:15:00</th>\n",
       "      <td>226.000000</td>\n",
       "      <td>0.000000</td>\n",
       "    </tr>\n",
       "    <tr>\n",
       "      <th>2019-01-19 07:30:00</th>\n",
       "      <td>461.666656</td>\n",
       "      <td>617.353760</td>\n",
       "    </tr>\n",
       "    <tr>\n",
       "      <th>2019-01-19 07:45:00</th>\n",
       "      <td>813.000000</td>\n",
       "      <td>1035.303101</td>\n",
       "    </tr>\n",
       "    <tr>\n",
       "      <th>2019-01-19 08:00:00</th>\n",
       "      <td>1033.666626</td>\n",
       "      <td>1368.810547</td>\n",
       "    </tr>\n",
       "    <tr>\n",
       "      <th>2019-01-19 08:15:00</th>\n",
       "      <td>1155.000000</td>\n",
       "      <td>1817.753784</td>\n",
       "    </tr>\n",
       "    <tr>\n",
       "      <th>2019-01-19 08:30:00</th>\n",
       "      <td>1536.666626</td>\n",
       "      <td>2301.162109</td>\n",
       "    </tr>\n",
       "    <tr>\n",
       "      <th>2019-01-19 08:45:00</th>\n",
       "      <td>1492.000000</td>\n",
       "      <td>2808.234375</td>\n",
       "    </tr>\n",
       "    <tr>\n",
       "      <th>2019-01-19 09:00:00</th>\n",
       "      <td>1401.666626</td>\n",
       "      <td>3316.520508</td>\n",
       "    </tr>\n",
       "    <tr>\n",
       "      <th>2019-01-19 09:15:00</th>\n",
       "      <td>1845.333374</td>\n",
       "      <td>3791.606201</td>\n",
       "    </tr>\n",
       "    <tr>\n",
       "      <th>2019-01-19 09:30:00</th>\n",
       "      <td>2628.666748</td>\n",
       "      <td>4225.257812</td>\n",
       "    </tr>\n",
       "    <tr>\n",
       "      <th>2019-01-19 09:45:00</th>\n",
       "      <td>3626.666748</td>\n",
       "      <td>4623.482422</td>\n",
       "    </tr>\n",
       "    <tr>\n",
       "      <th>2019-01-19 10:00:00</th>\n",
       "      <td>3429.666748</td>\n",
       "      <td>4943.741211</td>\n",
       "    </tr>\n",
       "    <tr>\n",
       "      <th>2019-01-19 10:15:00</th>\n",
       "      <td>2794.000000</td>\n",
       "      <td>5144.916504</td>\n",
       "    </tr>\n",
       "    <tr>\n",
       "      <th>2019-01-19 10:30:00</th>\n",
       "      <td>4915.000000</td>\n",
       "      <td>5343.509277</td>\n",
       "    </tr>\n",
       "    <tr>\n",
       "      <th>2019-01-19 10:45:00</th>\n",
       "      <td>4476.333496</td>\n",
       "      <td>5510.036621</td>\n",
       "    </tr>\n",
       "    <tr>\n",
       "      <th>2019-01-19 11:00:00</th>\n",
       "      <td>5597.333496</td>\n",
       "      <td>5650.533691</td>\n",
       "    </tr>\n",
       "    <tr>\n",
       "      <th>2019-01-19 11:15:00</th>\n",
       "      <td>5765.666504</td>\n",
       "      <td>5765.991211</td>\n",
       "    </tr>\n",
       "    <tr>\n",
       "      <th>2019-01-19 11:30:00</th>\n",
       "      <td>5863.333496</td>\n",
       "      <td>5851.708496</td>\n",
       "    </tr>\n",
       "    <tr>\n",
       "      <th>2019-01-19 11:45:00</th>\n",
       "      <td>5976.666504</td>\n",
       "      <td>5811.864258</td>\n",
       "    </tr>\n",
       "    <tr>\n",
       "      <th>2019-01-19 12:00:00</th>\n",
       "      <td>6012.333496</td>\n",
       "      <td>5882.463867</td>\n",
       "    </tr>\n",
       "    <tr>\n",
       "      <th>2019-01-19 12:15:00</th>\n",
       "      <td>6015.000000</td>\n",
       "      <td>5945.531738</td>\n",
       "    </tr>\n",
       "    <tr>\n",
       "      <th>2019-01-19 12:30:00</th>\n",
       "      <td>6052.666504</td>\n",
       "      <td>5977.119141</td>\n",
       "    </tr>\n",
       "    <tr>\n",
       "      <th>2019-01-19 12:45:00</th>\n",
       "      <td>4759.333496</td>\n",
       "      <td>5935.245117</td>\n",
       "    </tr>\n",
       "    <tr>\n",
       "      <th>2019-01-19 13:00:00</th>\n",
       "      <td>5301.333496</td>\n",
       "      <td>5853.888672</td>\n",
       "    </tr>\n",
       "    <tr>\n",
       "      <th>2019-01-19 13:15:00</th>\n",
       "      <td>6313.000000</td>\n",
       "      <td>5697.717773</td>\n",
       "    </tr>\n",
       "    <tr>\n",
       "      <th>2019-01-19 13:30:00</th>\n",
       "      <td>4948.666504</td>\n",
       "      <td>5544.693359</td>\n",
       "    </tr>\n",
       "    <tr>\n",
       "      <th>2019-01-19 13:45:00</th>\n",
       "      <td>4133.333496</td>\n",
       "      <td>5355.745117</td>\n",
       "    </tr>\n",
       "    <tr>\n",
       "      <th>2019-01-19 14:00:00</th>\n",
       "      <td>4625.000000</td>\n",
       "      <td>5140.821289</td>\n",
       "    </tr>\n",
       "    <tr>\n",
       "      <th>2019-01-19 14:15:00</th>\n",
       "      <td>6056.666504</td>\n",
       "      <td>4916.031250</td>\n",
       "    </tr>\n",
       "    <tr>\n",
       "      <th>2019-01-19 14:30:00</th>\n",
       "      <td>4268.333496</td>\n",
       "      <td>4693.704102</td>\n",
       "    </tr>\n",
       "    <tr>\n",
       "      <th>2019-01-19 14:45:00</th>\n",
       "      <td>4566.666504</td>\n",
       "      <td>4444.289551</td>\n",
       "    </tr>\n",
       "    <tr>\n",
       "      <th>2019-01-19 15:00:00</th>\n",
       "      <td>3989.666748</td>\n",
       "      <td>4173.497559</td>\n",
       "    </tr>\n",
       "    <tr>\n",
       "      <th>2019-01-19 15:15:00</th>\n",
       "      <td>2787.333252</td>\n",
       "      <td>3845.460449</td>\n",
       "    </tr>\n",
       "    <tr>\n",
       "      <th>2019-01-19 15:30:00</th>\n",
       "      <td>2725.666748</td>\n",
       "      <td>3422.392334</td>\n",
       "    </tr>\n",
       "    <tr>\n",
       "      <th>2019-01-19 15:45:00</th>\n",
       "      <td>1731.000000</td>\n",
       "      <td>2947.054932</td>\n",
       "    </tr>\n",
       "    <tr>\n",
       "      <th>2019-01-19 16:00:00</th>\n",
       "      <td>1359.666626</td>\n",
       "      <td>2480.541504</td>\n",
       "    </tr>\n",
       "    <tr>\n",
       "      <th>2019-01-19 16:15:00</th>\n",
       "      <td>1258.666626</td>\n",
       "      <td>2006.099854</td>\n",
       "    </tr>\n",
       "    <tr>\n",
       "      <th>2019-01-19 16:30:00</th>\n",
       "      <td>1514.000000</td>\n",
       "      <td>1560.628418</td>\n",
       "    </tr>\n",
       "    <tr>\n",
       "      <th>2019-01-19 16:45:00</th>\n",
       "      <td>641.000000</td>\n",
       "      <td>1206.398315</td>\n",
       "    </tr>\n",
       "    <tr>\n",
       "      <th>2019-01-19 17:00:00</th>\n",
       "      <td>271.333344</td>\n",
       "      <td>885.814880</td>\n",
       "    </tr>\n",
       "    <tr>\n",
       "      <th>2019-01-19 17:15:00</th>\n",
       "      <td>147.666672</td>\n",
       "      <td>314.356903</td>\n",
       "    </tr>\n",
       "    <tr>\n",
       "      <th>2019-01-19 17:30:00</th>\n",
       "      <td>73.000000</td>\n",
       "      <td>0.000000</td>\n",
       "    </tr>\n",
       "    <tr>\n",
       "      <th>2019-01-19 17:45:00</th>\n",
       "      <td>6.333333</td>\n",
       "      <td>0.000000</td>\n",
       "    </tr>\n",
       "    <tr>\n",
       "      <th>2019-01-19 18:00:00</th>\n",
       "      <td>0.000000</td>\n",
       "      <td>0.000000</td>\n",
       "    </tr>\n",
       "    <tr>\n",
       "      <th>2019-01-21 06:00:00</th>\n",
       "      <td>0.000000</td>\n",
       "      <td>0.000000</td>\n",
       "    </tr>\n",
       "    <tr>\n",
       "      <th>2019-01-21 06:15:00</th>\n",
       "      <td>0.000000</td>\n",
       "      <td>0.000000</td>\n",
       "    </tr>\n",
       "    <tr>\n",
       "      <th>2019-01-21 06:30:00</th>\n",
       "      <td>0.000000</td>\n",
       "      <td>0.000000</td>\n",
       "    </tr>\n",
       "    <tr>\n",
       "      <th>2019-01-21 06:45:00</th>\n",
       "      <td>2.333333</td>\n",
       "      <td>0.000000</td>\n",
       "    </tr>\n",
       "    <tr>\n",
       "      <th>2019-01-21 07:00:00</th>\n",
       "      <td>43.666668</td>\n",
       "      <td>0.000000</td>\n",
       "    </tr>\n",
       "    <tr>\n",
       "      <th>2019-01-21 07:15:00</th>\n",
       "      <td>283.000000</td>\n",
       "      <td>0.000000</td>\n",
       "    </tr>\n",
       "    <tr>\n",
       "      <th>2019-01-21 07:30:00</th>\n",
       "      <td>524.000000</td>\n",
       "      <td>594.596069</td>\n",
       "    </tr>\n",
       "    <tr>\n",
       "      <th>2019-01-21 07:45:00</th>\n",
       "      <td>817.000000</td>\n",
       "      <td>1029.871338</td>\n",
       "    </tr>\n",
       "    <tr>\n",
       "      <th>2019-01-21 08:00:00</th>\n",
       "      <td>1214.666626</td>\n",
       "      <td>1378.702271</td>\n",
       "    </tr>\n",
       "    <tr>\n",
       "      <th>2019-01-21 08:15:00</th>\n",
       "      <td>1639.333374</td>\n",
       "      <td>1856.765625</td>\n",
       "    </tr>\n",
       "    <tr>\n",
       "      <th>2019-01-21 08:30:00</th>\n",
       "      <td>1859.333374</td>\n",
       "      <td>2329.706055</td>\n",
       "    </tr>\n",
       "  </tbody>\n",
       "</table>\n",
       "</div>"
      ],
      "text/plain": [
       "                          Actual     CNN+LSTM\n",
       "timestamp                                    \n",
       "2019-01-19 06:00:00     0.000000     0.000000\n",
       "2019-01-19 06:15:00     0.000000     0.000000\n",
       "2019-01-19 06:30:00     0.000000     0.000000\n",
       "2019-01-19 06:45:00     1.333333     0.000000\n",
       "2019-01-19 07:00:00    11.000000     0.000000\n",
       "2019-01-19 07:15:00   226.000000     0.000000\n",
       "2019-01-19 07:30:00   461.666656   617.353760\n",
       "2019-01-19 07:45:00   813.000000  1035.303101\n",
       "2019-01-19 08:00:00  1033.666626  1368.810547\n",
       "2019-01-19 08:15:00  1155.000000  1817.753784\n",
       "2019-01-19 08:30:00  1536.666626  2301.162109\n",
       "2019-01-19 08:45:00  1492.000000  2808.234375\n",
       "2019-01-19 09:00:00  1401.666626  3316.520508\n",
       "2019-01-19 09:15:00  1845.333374  3791.606201\n",
       "2019-01-19 09:30:00  2628.666748  4225.257812\n",
       "2019-01-19 09:45:00  3626.666748  4623.482422\n",
       "2019-01-19 10:00:00  3429.666748  4943.741211\n",
       "2019-01-19 10:15:00  2794.000000  5144.916504\n",
       "2019-01-19 10:30:00  4915.000000  5343.509277\n",
       "2019-01-19 10:45:00  4476.333496  5510.036621\n",
       "2019-01-19 11:00:00  5597.333496  5650.533691\n",
       "2019-01-19 11:15:00  5765.666504  5765.991211\n",
       "2019-01-19 11:30:00  5863.333496  5851.708496\n",
       "2019-01-19 11:45:00  5976.666504  5811.864258\n",
       "2019-01-19 12:00:00  6012.333496  5882.463867\n",
       "2019-01-19 12:15:00  6015.000000  5945.531738\n",
       "2019-01-19 12:30:00  6052.666504  5977.119141\n",
       "2019-01-19 12:45:00  4759.333496  5935.245117\n",
       "2019-01-19 13:00:00  5301.333496  5853.888672\n",
       "2019-01-19 13:15:00  6313.000000  5697.717773\n",
       "2019-01-19 13:30:00  4948.666504  5544.693359\n",
       "2019-01-19 13:45:00  4133.333496  5355.745117\n",
       "2019-01-19 14:00:00  4625.000000  5140.821289\n",
       "2019-01-19 14:15:00  6056.666504  4916.031250\n",
       "2019-01-19 14:30:00  4268.333496  4693.704102\n",
       "2019-01-19 14:45:00  4566.666504  4444.289551\n",
       "2019-01-19 15:00:00  3989.666748  4173.497559\n",
       "2019-01-19 15:15:00  2787.333252  3845.460449\n",
       "2019-01-19 15:30:00  2725.666748  3422.392334\n",
       "2019-01-19 15:45:00  1731.000000  2947.054932\n",
       "2019-01-19 16:00:00  1359.666626  2480.541504\n",
       "2019-01-19 16:15:00  1258.666626  2006.099854\n",
       "2019-01-19 16:30:00  1514.000000  1560.628418\n",
       "2019-01-19 16:45:00   641.000000  1206.398315\n",
       "2019-01-19 17:00:00   271.333344   885.814880\n",
       "2019-01-19 17:15:00   147.666672   314.356903\n",
       "2019-01-19 17:30:00    73.000000     0.000000\n",
       "2019-01-19 17:45:00     6.333333     0.000000\n",
       "2019-01-19 18:00:00     0.000000     0.000000\n",
       "2019-01-21 06:00:00     0.000000     0.000000\n",
       "2019-01-21 06:15:00     0.000000     0.000000\n",
       "2019-01-21 06:30:00     0.000000     0.000000\n",
       "2019-01-21 06:45:00     2.333333     0.000000\n",
       "2019-01-21 07:00:00    43.666668     0.000000\n",
       "2019-01-21 07:15:00   283.000000     0.000000\n",
       "2019-01-21 07:30:00   524.000000   594.596069\n",
       "2019-01-21 07:45:00   817.000000  1029.871338\n",
       "2019-01-21 08:00:00  1214.666626  1378.702271\n",
       "2019-01-21 08:15:00  1639.333374  1856.765625\n",
       "2019-01-21 08:30:00  1859.333374  2329.706055"
      ]
     },
     "execution_count": 38,
     "metadata": {},
     "output_type": "execute_result"
    }
   ],
   "source": [
    "CLSTM_results_df = pd.concat([y_test[(window_size + forecast_range):].reset_index(),\n",
    "                              pd.Series(CNNLSTM_test_result)], axis=1)\n",
    "\n",
    "CLSTM_results_df.columns = ['timestamp', 'Actual', 'CNN+LSTM']\n",
    "CLSTM_results_df = CLSTM_results_df.set_index('timestamp')\n",
    "CLSTM_results_df.head(60)"
   ]
  },
  {
   "cell_type": "code",
   "execution_count": 42,
   "id": "ce65bf6b",
   "metadata": {},
   "outputs": [
    {
     "data": {
      "text/plain": [
       "Actual         0\n",
       "CNN+LSTM       0\n",
       "APE_CNNLSTM    0\n",
       "dtype: int64"
      ]
     },
     "execution_count": 42,
     "metadata": {},
     "output_type": "execute_result"
    }
   ],
   "source": [
    "CLSTM_results_df['APE_CNNLSTM'] = APE(CLSTM_results_df['CNN+LSTM'], CLSTM_results_df['Actual'])\n",
    "CLSTM_results_df = fill_na_inf(CLSTM_results_df)\n",
    "CLSTM_results_df.isna().sum()"
   ]
  },
  {
   "cell_type": "code",
   "execution_count": 43,
   "id": "71825106",
   "metadata": {},
   "outputs": [
    {
     "name": "stdout",
     "output_type": "stream",
     "text": [
      "143.89314\n",
      "23.29\n",
      "91693.88\n",
      "0.0\n"
     ]
    },
    {
     "data": {
      "image/png": "[encoded data removed]",
      "text/plain": [
       "<Figure size 640x480 with 1 Axes>"
      ]
     },
     "metadata": {},
     "output_type": "display_data"
    }
   ],
   "source": [
    "plot_histogram(CLSTM_results_df['APE_CNNLSTM'], 2, 50)\n",
    "print(CLSTM_results_df['APE_CNNLSTM'].mean())\n",
    "print(CLSTM_results_df['APE_CNNLSTM'].median())\n",
    "print(CLSTM_results_df['APE_CNNLSTM'].max())\n",
    "print(CLSTM_results_df['APE_CNNLSTM'].min())"
   ]
  },
  {
   "cell_type": "code",
   "execution_count": 50,
   "id": "76a68808",
   "metadata": {},
   "outputs": [
    {
     "data": {
      "text/plain": [
       "timestamp\n",
       "2019-01-19 06:45:00    100.000000\n",
       "2019-01-19 07:00:00    100.000000\n",
       "2019-01-19 07:15:00    100.000000\n",
       "2019-01-19 09:00:00    136.610001\n",
       "2019-01-19 09:15:00    105.470001\n",
       "                          ...    \n",
       "2019-12-31 08:45:00    100.019997\n",
       "2019-12-31 12:45:00    104.589996\n",
       "2019-12-31 15:00:00    192.800003\n",
       "2019-12-31 17:30:00    100.000000\n",
       "2019-12-31 17:45:00    100.000000\n",
       "Name: APE_CNNLSTM, Length: 2759, dtype: float32"
      ]
     },
     "execution_count": 50,
     "metadata": {},
     "output_type": "execute_result"
    }
   ],
   "source": [
    "CLSTM_results_df.query('APE_CNNLSTM >= 100')['APE_CNNLSTM']"
   ]
  },
  {
   "cell_type": "markdown",
   "id": "e870a1af",
   "metadata": {},
   "source": [
    "------------------------"
   ]
  },
  {
   "cell_type": "markdown",
   "id": "947937ba",
   "metadata": {},
   "source": [
    "## Compare results between LSTM and CNNLSTM (Present)"
   ]
  },
  {
   "cell_type": "code",
   "execution_count": 82,
   "id": "c288ce86",
   "metadata": {},
   "outputs": [
    {
     "data": {
      "text/html": [
       "<div>\n",
       "<style scoped>\n",
       "    .dataframe tbody tr th:only-of-type {\n",
       "        vertical-align: middle;\n",
       "    }\n",
       "\n",
       "    .dataframe tbody tr th {\n",
       "        vertical-align: top;\n",
       "    }\n",
       "\n",
       "    .dataframe thead th {\n",
       "        text-align: right;\n",
       "    }\n",
       "</style>\n",
       "<table border=\"1\" class=\"dataframe\">\n",
       "  <thead>\n",
       "    <tr style=\"text-align: right;\">\n",
       "      <th></th>\n",
       "      <th>MAE</th>\n",
       "      <th>RMSE</th>\n",
       "      <th>MBE</th>\n",
       "      <th>NMAE_installed</th>\n",
       "      <th>NRMSE_installed</th>\n",
       "      <th>NMAE_avg</th>\n",
       "      <th>NRMSE_avg</th>\n",
       "    </tr>\n",
       "  </thead>\n",
       "  <tbody>\n",
       "    <tr>\n",
       "      <th>LSTM</th>\n",
       "      <td>888.669983</td>\n",
       "      <td>1255.300049</td>\n",
       "      <td>-6.13</td>\n",
       "      <td>8.89</td>\n",
       "      <td>12.55</td>\n",
       "      <td>28.73</td>\n",
       "      <td>40.58</td>\n",
       "    </tr>\n",
       "    <tr>\n",
       "      <th>CNN + LSTM</th>\n",
       "      <td>874.020020</td>\n",
       "      <td>1244.199951</td>\n",
       "      <td>6.55</td>\n",
       "      <td>8.74</td>\n",
       "      <td>12.44</td>\n",
       "      <td>28.25</td>\n",
       "      <td>40.22</td>\n",
       "    </tr>\n",
       "  </tbody>\n",
       "</table>\n",
       "</div>"
      ],
      "text/plain": [
       "                   MAE         RMSE   MBE  NMAE_installed  NRMSE_installed   \n",
       "LSTM        888.669983  1255.300049 -6.13            8.89            12.55  \\\n",
       "CNN + LSTM  874.020020  1244.199951  6.55            8.74            12.44   \n",
       "\n",
       "            NMAE_avg  NRMSE_avg  \n",
       "LSTM           28.73      40.58  \n",
       "CNN + LSTM     28.25      40.22  "
      ]
     },
     "execution_count": 82,
     "metadata": {},
     "output_type": "execute_result"
    }
   ],
   "source": [
    "seq_models_scores = pd.DataFrame([LSTM_test_scores, CNNLSTM_test_scores], \n",
    "                                 index=['LSTM', 'CNN + LSTM']).round(2)\n",
    "seq_models_scores"
   ]
  },
  {
   "cell_type": "code",
   "execution_count": 86,
   "id": "18ce8937",
   "metadata": {},
   "outputs": [
    {
     "data": {
      "text/plain": [
       "'\\nTesting set only has 336 days which make some sequences more than 5 days because the missing dates\\n\\nThe baseline NRMSEavg = 39% on both 1 day, 5 days, 10 days and 15 days forecast ahead\\n'"
      ]
     },
     "execution_count": 86,
     "metadata": {},
     "output_type": "execute_result"
    }
   ],
   "source": [
    "'''\n",
    "Testing set only has 336 days which make some sequences more than 5 days because the missing dates\n",
    "\n",
    "The baseline NRMSEavg = 39% on both 1 day, 5 days, 10 days and 15 days forecast ahead\n",
    "'''\n",
    "\n",
    "# X_test.resample('D').size()[X_test.resample('D').size() > 0][:30]"
   ]
  },
  {
   "cell_type": "markdown",
   "id": "323cd2db",
   "metadata": {},
   "source": [
    "------------------------------------"
   ]
  },
  {
   "cell_type": "markdown",
   "id": "6e72c45d",
   "metadata": {},
   "source": [
    "## Check APE"
   ]
  },
  {
   "cell_type": "code",
   "execution_count": 88,
   "id": "3c0995b6",
   "metadata": {},
   "outputs": [
    {
     "data": {
      "text/html": [
       "<div>\n",
       "<style scoped>\n",
       "    .dataframe tbody tr th:only-of-type {\n",
       "        vertical-align: middle;\n",
       "    }\n",
       "\n",
       "    .dataframe tbody tr th {\n",
       "        vertical-align: top;\n",
       "    }\n",
       "\n",
       "    .dataframe thead th {\n",
       "        text-align: right;\n",
       "    }\n",
       "</style>\n",
       "<table border=\"1\" class=\"dataframe\">\n",
       "  <thead>\n",
       "    <tr style=\"text-align: right;\">\n",
       "      <th></th>\n",
       "      <th>Actual</th>\n",
       "      <th>LSTM</th>\n",
       "      <th>CNN+LSTM</th>\n",
       "    </tr>\n",
       "    <tr>\n",
       "      <th>timestamp</th>\n",
       "      <th></th>\n",
       "      <th></th>\n",
       "      <th></th>\n",
       "    </tr>\n",
       "  </thead>\n",
       "  <tbody>\n",
       "    <tr>\n",
       "      <th>2019-01-19 06:00:00</th>\n",
       "      <td>0.000000</td>\n",
       "      <td>0.000000</td>\n",
       "      <td>0.000000</td>\n",
       "    </tr>\n",
       "    <tr>\n",
       "      <th>2019-01-19 06:15:00</th>\n",
       "      <td>0.000000</td>\n",
       "      <td>0.000000</td>\n",
       "      <td>0.000000</td>\n",
       "    </tr>\n",
       "    <tr>\n",
       "      <th>2019-01-19 06:30:00</th>\n",
       "      <td>0.000000</td>\n",
       "      <td>0.000000</td>\n",
       "      <td>0.000000</td>\n",
       "    </tr>\n",
       "    <tr>\n",
       "      <th>2019-01-19 06:45:00</th>\n",
       "      <td>1.333333</td>\n",
       "      <td>0.000000</td>\n",
       "      <td>0.000000</td>\n",
       "    </tr>\n",
       "    <tr>\n",
       "      <th>2019-01-19 07:00:00</th>\n",
       "      <td>11.000000</td>\n",
       "      <td>0.000000</td>\n",
       "      <td>0.000000</td>\n",
       "    </tr>\n",
       "    <tr>\n",
       "      <th>2019-01-19 07:15:00</th>\n",
       "      <td>226.000000</td>\n",
       "      <td>0.000000</td>\n",
       "      <td>155.705521</td>\n",
       "    </tr>\n",
       "    <tr>\n",
       "      <th>2019-01-19 07:30:00</th>\n",
       "      <td>461.666656</td>\n",
       "      <td>396.929779</td>\n",
       "      <td>671.167847</td>\n",
       "    </tr>\n",
       "    <tr>\n",
       "      <th>2019-01-19 07:45:00</th>\n",
       "      <td>813.000000</td>\n",
       "      <td>905.093384</td>\n",
       "      <td>1105.608765</td>\n",
       "    </tr>\n",
       "    <tr>\n",
       "      <th>2019-01-19 08:00:00</th>\n",
       "      <td>1033.666626</td>\n",
       "      <td>1365.544922</td>\n",
       "      <td>1534.789185</td>\n",
       "    </tr>\n",
       "    <tr>\n",
       "      <th>2019-01-19 08:15:00</th>\n",
       "      <td>1155.000000</td>\n",
       "      <td>1800.235107</td>\n",
       "      <td>2009.417236</td>\n",
       "    </tr>\n",
       "    <tr>\n",
       "      <th>2019-01-19 08:30:00</th>\n",
       "      <td>1536.666626</td>\n",
       "      <td>2278.379150</td>\n",
       "      <td>2516.381592</td>\n",
       "    </tr>\n",
       "    <tr>\n",
       "      <th>2019-01-19 08:45:00</th>\n",
       "      <td>1492.000000</td>\n",
       "      <td>2774.582275</td>\n",
       "      <td>2960.240234</td>\n",
       "    </tr>\n",
       "    <tr>\n",
       "      <th>2019-01-19 09:00:00</th>\n",
       "      <td>1401.666626</td>\n",
       "      <td>3240.915283</td>\n",
       "      <td>3357.408203</td>\n",
       "    </tr>\n",
       "    <tr>\n",
       "      <th>2019-01-19 09:15:00</th>\n",
       "      <td>1845.333374</td>\n",
       "      <td>3665.510498</td>\n",
       "      <td>3760.497803</td>\n",
       "    </tr>\n",
       "    <tr>\n",
       "      <th>2019-01-19 09:30:00</th>\n",
       "      <td>2628.666748</td>\n",
       "      <td>4071.038330</td>\n",
       "      <td>4142.559570</td>\n",
       "    </tr>\n",
       "    <tr>\n",
       "      <th>2019-01-19 09:45:00</th>\n",
       "      <td>3626.666748</td>\n",
       "      <td>4446.960449</td>\n",
       "      <td>4490.511230</td>\n",
       "    </tr>\n",
       "    <tr>\n",
       "      <th>2019-01-19 10:00:00</th>\n",
       "      <td>3429.666748</td>\n",
       "      <td>4797.666504</td>\n",
       "      <td>4831.799316</td>\n",
       "    </tr>\n",
       "    <tr>\n",
       "      <th>2019-01-19 10:15:00</th>\n",
       "      <td>2794.000000</td>\n",
       "      <td>5095.863770</td>\n",
       "      <td>5143.802246</td>\n",
       "    </tr>\n",
       "    <tr>\n",
       "      <th>2019-01-19 10:30:00</th>\n",
       "      <td>4915.000000</td>\n",
       "      <td>5308.471191</td>\n",
       "      <td>5386.114746</td>\n",
       "    </tr>\n",
       "    <tr>\n",
       "      <th>2019-01-19 10:45:00</th>\n",
       "      <td>4476.333496</td>\n",
       "      <td>5455.834961</td>\n",
       "      <td>5555.052246</td>\n",
       "    </tr>\n",
       "    <tr>\n",
       "      <th>2019-01-19 11:00:00</th>\n",
       "      <td>5597.333496</td>\n",
       "      <td>5578.737305</td>\n",
       "      <td>5696.501465</td>\n",
       "    </tr>\n",
       "    <tr>\n",
       "      <th>2019-01-19 11:15:00</th>\n",
       "      <td>5765.666504</td>\n",
       "      <td>5678.586426</td>\n",
       "      <td>5817.153809</td>\n",
       "    </tr>\n",
       "    <tr>\n",
       "      <th>2019-01-19 11:30:00</th>\n",
       "      <td>5863.333496</td>\n",
       "      <td>5778.992676</td>\n",
       "      <td>5946.082031</td>\n",
       "    </tr>\n",
       "    <tr>\n",
       "      <th>2019-01-19 11:45:00</th>\n",
       "      <td>5976.666504</td>\n",
       "      <td>5859.552246</td>\n",
       "      <td>6011.693848</td>\n",
       "    </tr>\n",
       "    <tr>\n",
       "      <th>2019-01-19 12:00:00</th>\n",
       "      <td>6012.333496</td>\n",
       "      <td>5922.796387</td>\n",
       "      <td>6056.277832</td>\n",
       "    </tr>\n",
       "    <tr>\n",
       "      <th>2019-01-19 12:15:00</th>\n",
       "      <td>6015.000000</td>\n",
       "      <td>5942.498047</td>\n",
       "      <td>6060.108887</td>\n",
       "    </tr>\n",
       "    <tr>\n",
       "      <th>2019-01-19 12:30:00</th>\n",
       "      <td>6052.666504</td>\n",
       "      <td>5952.598633</td>\n",
       "      <td>6060.311035</td>\n",
       "    </tr>\n",
       "    <tr>\n",
       "      <th>2019-01-19 12:45:00</th>\n",
       "      <td>4759.333496</td>\n",
       "      <td>5920.479980</td>\n",
       "      <td>6005.062988</td>\n",
       "    </tr>\n",
       "    <tr>\n",
       "      <th>2019-01-19 13:00:00</th>\n",
       "      <td>5301.333496</td>\n",
       "      <td>5879.001953</td>\n",
       "      <td>5913.532715</td>\n",
       "    </tr>\n",
       "    <tr>\n",
       "      <th>2019-01-19 13:15:00</th>\n",
       "      <td>6313.000000</td>\n",
       "      <td>5808.054199</td>\n",
       "      <td>5767.205078</td>\n",
       "    </tr>\n",
       "    <tr>\n",
       "      <th>2019-01-19 13:30:00</th>\n",
       "      <td>4948.666504</td>\n",
       "      <td>5677.342773</td>\n",
       "      <td>5609.919434</td>\n",
       "    </tr>\n",
       "    <tr>\n",
       "      <th>2019-01-19 13:45:00</th>\n",
       "      <td>4133.333496</td>\n",
       "      <td>5491.998535</td>\n",
       "      <td>5445.876465</td>\n",
       "    </tr>\n",
       "    <tr>\n",
       "      <th>2019-01-19 14:00:00</th>\n",
       "      <td>4625.000000</td>\n",
       "      <td>5253.302246</td>\n",
       "      <td>5260.451172</td>\n",
       "    </tr>\n",
       "    <tr>\n",
       "      <th>2019-01-19 14:15:00</th>\n",
       "      <td>6056.666504</td>\n",
       "      <td>4972.516602</td>\n",
       "      <td>5055.815918</td>\n",
       "    </tr>\n",
       "    <tr>\n",
       "      <th>2019-01-19 14:30:00</th>\n",
       "      <td>4268.333496</td>\n",
       "      <td>4676.967285</td>\n",
       "      <td>4812.309082</td>\n",
       "    </tr>\n",
       "    <tr>\n",
       "      <th>2019-01-19 14:45:00</th>\n",
       "      <td>4566.666504</td>\n",
       "      <td>4360.946777</td>\n",
       "      <td>4521.621582</td>\n",
       "    </tr>\n",
       "    <tr>\n",
       "      <th>2019-01-19 15:00:00</th>\n",
       "      <td>3989.666748</td>\n",
       "      <td>4039.045410</td>\n",
       "      <td>4199.673828</td>\n",
       "    </tr>\n",
       "    <tr>\n",
       "      <th>2019-01-19 15:15:00</th>\n",
       "      <td>2787.333252</td>\n",
       "      <td>3708.217529</td>\n",
       "      <td>3855.824951</td>\n",
       "    </tr>\n",
       "    <tr>\n",
       "      <th>2019-01-19 15:30:00</th>\n",
       "      <td>2725.666748</td>\n",
       "      <td>3351.124756</td>\n",
       "      <td>3494.389160</td>\n",
       "    </tr>\n",
       "    <tr>\n",
       "      <th>2019-01-19 15:45:00</th>\n",
       "      <td>1731.000000</td>\n",
       "      <td>2962.856689</td>\n",
       "      <td>3111.355469</td>\n",
       "    </tr>\n",
       "    <tr>\n",
       "      <th>2019-01-19 16:00:00</th>\n",
       "      <td>1359.666626</td>\n",
       "      <td>2524.872803</td>\n",
       "      <td>2708.208740</td>\n",
       "    </tr>\n",
       "    <tr>\n",
       "      <th>2019-01-19 16:15:00</th>\n",
       "      <td>1258.666626</td>\n",
       "      <td>2051.583008</td>\n",
       "      <td>2307.493164</td>\n",
       "    </tr>\n",
       "    <tr>\n",
       "      <th>2019-01-19 16:30:00</th>\n",
       "      <td>1514.000000</td>\n",
       "      <td>1566.977661</td>\n",
       "      <td>1841.456421</td>\n",
       "    </tr>\n",
       "    <tr>\n",
       "      <th>2019-01-19 16:45:00</th>\n",
       "      <td>641.000000</td>\n",
       "      <td>1088.723511</td>\n",
       "      <td>1379.789795</td>\n",
       "    </tr>\n",
       "    <tr>\n",
       "      <th>2019-01-19 17:00:00</th>\n",
       "      <td>271.333344</td>\n",
       "      <td>471.475372</td>\n",
       "      <td>987.534302</td>\n",
       "    </tr>\n",
       "    <tr>\n",
       "      <th>2019-01-19 17:15:00</th>\n",
       "      <td>147.666672</td>\n",
       "      <td>0.000000</td>\n",
       "      <td>629.204468</td>\n",
       "    </tr>\n",
       "    <tr>\n",
       "      <th>2019-01-19 17:30:00</th>\n",
       "      <td>73.000000</td>\n",
       "      <td>0.000000</td>\n",
       "      <td>176.560867</td>\n",
       "    </tr>\n",
       "    <tr>\n",
       "      <th>2019-01-19 17:45:00</th>\n",
       "      <td>6.333333</td>\n",
       "      <td>0.000000</td>\n",
       "      <td>0.000000</td>\n",
       "    </tr>\n",
       "    <tr>\n",
       "      <th>2019-01-19 18:00:00</th>\n",
       "      <td>0.000000</td>\n",
       "      <td>0.000000</td>\n",
       "      <td>0.000000</td>\n",
       "    </tr>\n",
       "    <tr>\n",
       "      <th>2019-01-21 06:00:00</th>\n",
       "      <td>0.000000</td>\n",
       "      <td>0.000000</td>\n",
       "      <td>0.000000</td>\n",
       "    </tr>\n",
       "    <tr>\n",
       "      <th>2019-01-21 06:15:00</th>\n",
       "      <td>0.000000</td>\n",
       "      <td>0.000000</td>\n",
       "      <td>0.000000</td>\n",
       "    </tr>\n",
       "    <tr>\n",
       "      <th>2019-01-21 06:30:00</th>\n",
       "      <td>0.000000</td>\n",
       "      <td>0.000000</td>\n",
       "      <td>0.000000</td>\n",
       "    </tr>\n",
       "    <tr>\n",
       "      <th>2019-01-21 06:45:00</th>\n",
       "      <td>2.333333</td>\n",
       "      <td>0.000000</td>\n",
       "      <td>0.000000</td>\n",
       "    </tr>\n",
       "    <tr>\n",
       "      <th>2019-01-21 07:00:00</th>\n",
       "      <td>43.666668</td>\n",
       "      <td>0.000000</td>\n",
       "      <td>0.000000</td>\n",
       "    </tr>\n",
       "    <tr>\n",
       "      <th>2019-01-21 07:15:00</th>\n",
       "      <td>283.000000</td>\n",
       "      <td>0.000000</td>\n",
       "      <td>19.514265</td>\n",
       "    </tr>\n",
       "    <tr>\n",
       "      <th>2019-01-21 07:30:00</th>\n",
       "      <td>524.000000</td>\n",
       "      <td>59.330589</td>\n",
       "      <td>577.188904</td>\n",
       "    </tr>\n",
       "    <tr>\n",
       "      <th>2019-01-21 07:45:00</th>\n",
       "      <td>817.000000</td>\n",
       "      <td>614.974243</td>\n",
       "      <td>993.684814</td>\n",
       "    </tr>\n",
       "    <tr>\n",
       "      <th>2019-01-21 08:00:00</th>\n",
       "      <td>1214.666626</td>\n",
       "      <td>1140.608521</td>\n",
       "      <td>1383.154419</td>\n",
       "    </tr>\n",
       "    <tr>\n",
       "      <th>2019-01-21 08:15:00</th>\n",
       "      <td>1639.333374</td>\n",
       "      <td>1575.803223</td>\n",
       "      <td>1820.714111</td>\n",
       "    </tr>\n",
       "    <tr>\n",
       "      <th>2019-01-21 08:30:00</th>\n",
       "      <td>1859.333374</td>\n",
       "      <td>2039.494751</td>\n",
       "      <td>2303.372070</td>\n",
       "    </tr>\n",
       "  </tbody>\n",
       "</table>\n",
       "</div>"
      ],
      "text/plain": [
       "                          Actual         LSTM     CNN+LSTM\n",
       "timestamp                                                 \n",
       "2019-01-19 06:00:00     0.000000     0.000000     0.000000\n",
       "2019-01-19 06:15:00     0.000000     0.000000     0.000000\n",
       "2019-01-19 06:30:00     0.000000     0.000000     0.000000\n",
       "2019-01-19 06:45:00     1.333333     0.000000     0.000000\n",
       "2019-01-19 07:00:00    11.000000     0.000000     0.000000\n",
       "2019-01-19 07:15:00   226.000000     0.000000   155.705521\n",
       "2019-01-19 07:30:00   461.666656   396.929779   671.167847\n",
       "2019-01-19 07:45:00   813.000000   905.093384  1105.608765\n",
       "2019-01-19 08:00:00  1033.666626  1365.544922  1534.789185\n",
       "2019-01-19 08:15:00  1155.000000  1800.235107  2009.417236\n",
       "2019-01-19 08:30:00  1536.666626  2278.379150  2516.381592\n",
       "2019-01-19 08:45:00  1492.000000  2774.582275  2960.240234\n",
       "2019-01-19 09:00:00  1401.666626  3240.915283  3357.408203\n",
       "2019-01-19 09:15:00  1845.333374  3665.510498  3760.497803\n",
       "2019-01-19 09:30:00  2628.666748  4071.038330  4142.559570\n",
       "2019-01-19 09:45:00  3626.666748  4446.960449  4490.511230\n",
       "2019-01-19 10:00:00  3429.666748  4797.666504  4831.799316\n",
       "2019-01-19 10:15:00  2794.000000  5095.863770  5143.802246\n",
       "2019-01-19 10:30:00  4915.000000  5308.471191  5386.114746\n",
       "2019-01-19 10:45:00  4476.333496  5455.834961  5555.052246\n",
       "2019-01-19 11:00:00  5597.333496  5578.737305  5696.501465\n",
       "2019-01-19 11:15:00  5765.666504  5678.586426  5817.153809\n",
       "2019-01-19 11:30:00  5863.333496  5778.992676  5946.082031\n",
       "2019-01-19 11:45:00  5976.666504  5859.552246  6011.693848\n",
       "2019-01-19 12:00:00  6012.333496  5922.796387  6056.277832\n",
       "2019-01-19 12:15:00  6015.000000  5942.498047  6060.108887\n",
       "2019-01-19 12:30:00  6052.666504  5952.598633  6060.311035\n",
       "2019-01-19 12:45:00  4759.333496  5920.479980  6005.062988\n",
       "2019-01-19 13:00:00  5301.333496  5879.001953  5913.532715\n",
       "2019-01-19 13:15:00  6313.000000  5808.054199  5767.205078\n",
       "2019-01-19 13:30:00  4948.666504  5677.342773  5609.919434\n",
       "2019-01-19 13:45:00  4133.333496  5491.998535  5445.876465\n",
       "2019-01-19 14:00:00  4625.000000  5253.302246  5260.451172\n",
       "2019-01-19 14:15:00  6056.666504  4972.516602  5055.815918\n",
       "2019-01-19 14:30:00  4268.333496  4676.967285  4812.309082\n",
       "2019-01-19 14:45:00  4566.666504  4360.946777  4521.621582\n",
       "2019-01-19 15:00:00  3989.666748  4039.045410  4199.673828\n",
       "2019-01-19 15:15:00  2787.333252  3708.217529  3855.824951\n",
       "2019-01-19 15:30:00  2725.666748  3351.124756  3494.389160\n",
       "2019-01-19 15:45:00  1731.000000  2962.856689  3111.355469\n",
       "2019-01-19 16:00:00  1359.666626  2524.872803  2708.208740\n",
       "2019-01-19 16:15:00  1258.666626  2051.583008  2307.493164\n",
       "2019-01-19 16:30:00  1514.000000  1566.977661  1841.456421\n",
       "2019-01-19 16:45:00   641.000000  1088.723511  1379.789795\n",
       "2019-01-19 17:00:00   271.333344   471.475372   987.534302\n",
       "2019-01-19 17:15:00   147.666672     0.000000   629.204468\n",
       "2019-01-19 17:30:00    73.000000     0.000000   176.560867\n",
       "2019-01-19 17:45:00     6.333333     0.000000     0.000000\n",
       "2019-01-19 18:00:00     0.000000     0.000000     0.000000\n",
       "2019-01-21 06:00:00     0.000000     0.000000     0.000000\n",
       "2019-01-21 06:15:00     0.000000     0.000000     0.000000\n",
       "2019-01-21 06:30:00     0.000000     0.000000     0.000000\n",
       "2019-01-21 06:45:00     2.333333     0.000000     0.000000\n",
       "2019-01-21 07:00:00    43.666668     0.000000     0.000000\n",
       "2019-01-21 07:15:00   283.000000     0.000000    19.514265\n",
       "2019-01-21 07:30:00   524.000000    59.330589   577.188904\n",
       "2019-01-21 07:45:00   817.000000   614.974243   993.684814\n",
       "2019-01-21 08:00:00  1214.666626  1140.608521  1383.154419\n",
       "2019-01-21 08:15:00  1639.333374  1575.803223  1820.714111\n",
       "2019-01-21 08:30:00  1859.333374  2039.494751  2303.372070"
      ]
     },
     "execution_count": 88,
     "metadata": {},
     "output_type": "execute_result"
    }
   ],
   "source": [
    "results_df = pd.concat([y_test[(window_size + forecast_range):].reset_index(),\n",
    "                        pd.Series(LSTM_test_result), pd.Series(CNNLSTM_test_result)], axis=1)\n",
    "\n",
    "results_df.columns = ['timestamp', 'Actual', 'LSTM', 'CNN+LSTM']\n",
    "results_df = results_df.set_index('timestamp')\n",
    "results_df.head(60)"
   ]
  },
  {
   "cell_type": "code",
   "execution_count": 89,
   "id": "e7f79e1b",
   "metadata": {},
   "outputs": [
    {
     "data": {
      "text/plain": [
       "(15778, 5)"
      ]
     },
     "execution_count": 89,
     "metadata": {},
     "output_type": "execute_result"
    }
   ],
   "source": [
    "results_df['APE_LSTM'] = APE(results_df['LSTM'], results_df['Actual'])\n",
    "results_df['APE_CNNLSTM'] = APE(results_df['CNN+LSTM'], results_df['Actual'])\n",
    "results_df.shape"
   ]
  },
  {
   "cell_type": "code",
   "execution_count": 90,
   "id": "20cb9fbb",
   "metadata": {},
   "outputs": [
    {
     "data": {
      "text/html": [
       "<div>\n",
       "<style scoped>\n",
       "    .dataframe tbody tr th:only-of-type {\n",
       "        vertical-align: middle;\n",
       "    }\n",
       "\n",
       "    .dataframe tbody tr th {\n",
       "        vertical-align: top;\n",
       "    }\n",
       "\n",
       "    .dataframe thead th {\n",
       "        text-align: right;\n",
       "    }\n",
       "</style>\n",
       "<table border=\"1\" class=\"dataframe\">\n",
       "  <thead>\n",
       "    <tr style=\"text-align: right;\">\n",
       "      <th></th>\n",
       "      <th>Actual</th>\n",
       "      <th>LSTM</th>\n",
       "      <th>CNN+LSTM</th>\n",
       "      <th>APE_LSTM</th>\n",
       "      <th>APE_CNNLSTM</th>\n",
       "    </tr>\n",
       "    <tr>\n",
       "      <th>timestamp</th>\n",
       "      <th></th>\n",
       "      <th></th>\n",
       "      <th></th>\n",
       "      <th></th>\n",
       "      <th></th>\n",
       "    </tr>\n",
       "  </thead>\n",
       "  <tbody>\n",
       "    <tr>\n",
       "      <th>2019-01-19 06:00:00</th>\n",
       "      <td>0.000000</td>\n",
       "      <td>0.0</td>\n",
       "      <td>0.0</td>\n",
       "      <td>0.0</td>\n",
       "      <td>0.0</td>\n",
       "    </tr>\n",
       "    <tr>\n",
       "      <th>2019-01-19 06:15:00</th>\n",
       "      <td>0.000000</td>\n",
       "      <td>0.0</td>\n",
       "      <td>0.0</td>\n",
       "      <td>0.0</td>\n",
       "      <td>0.0</td>\n",
       "    </tr>\n",
       "    <tr>\n",
       "      <th>2019-01-19 06:30:00</th>\n",
       "      <td>0.000000</td>\n",
       "      <td>0.0</td>\n",
       "      <td>0.0</td>\n",
       "      <td>0.0</td>\n",
       "      <td>0.0</td>\n",
       "    </tr>\n",
       "    <tr>\n",
       "      <th>2019-01-19 06:45:00</th>\n",
       "      <td>1.333333</td>\n",
       "      <td>0.0</td>\n",
       "      <td>0.0</td>\n",
       "      <td>100.0</td>\n",
       "      <td>100.0</td>\n",
       "    </tr>\n",
       "    <tr>\n",
       "      <th>2019-01-19 07:00:00</th>\n",
       "      <td>11.000000</td>\n",
       "      <td>0.0</td>\n",
       "      <td>0.0</td>\n",
       "      <td>100.0</td>\n",
       "      <td>100.0</td>\n",
       "    </tr>\n",
       "  </tbody>\n",
       "</table>\n",
       "</div>"
      ],
      "text/plain": [
       "                        Actual  LSTM  CNN+LSTM  APE_LSTM  APE_CNNLSTM\n",
       "timestamp                                                            \n",
       "2019-01-19 06:00:00   0.000000   0.0       0.0       0.0          0.0\n",
       "2019-01-19 06:15:00   0.000000   0.0       0.0       0.0          0.0\n",
       "2019-01-19 06:30:00   0.000000   0.0       0.0       0.0          0.0\n",
       "2019-01-19 06:45:00   1.333333   0.0       0.0     100.0        100.0\n",
       "2019-01-19 07:00:00  11.000000   0.0       0.0     100.0        100.0"
      ]
     },
     "execution_count": 90,
     "metadata": {},
     "output_type": "execute_result"
    }
   ],
   "source": [
    "results_df = fill_na_inf(results_df)\n",
    "results_df.head()"
   ]
  },
  {
   "cell_type": "code",
   "execution_count": 91,
   "id": "412daed1",
   "metadata": {},
   "outputs": [
    {
     "name": "stdout",
     "output_type": "stream",
     "text": [
      "125.170044\n",
      "26.07\n",
      "85869.74\n",
      "0.0\n"
     ]
    },
    {
     "data": {
      "image/png": "[encoded data removed]",
      "text/plain": [
       "<Figure size 640x480 with 1 Axes>"
      ]
     },
     "metadata": {},
     "output_type": "display_data"
    }
   ],
   "source": [
    "plot_histogram(results_df['APE_LSTM'], 2, 50)\n",
    "print(results_df['APE_LSTM'].mean())\n",
    "print(results_df['APE_LSTM'].median())\n",
    "print(results_df['APE_LSTM'].max())\n",
    "print(results_df['APE_LSTM'].min())"
   ]
  },
  {
   "cell_type": "code",
   "execution_count": 92,
   "id": "67fe56ce",
   "metadata": {},
   "outputs": [
    {
     "name": "stdout",
     "output_type": "stream",
     "text": [
      "137.81575\n",
      "24.275002\n",
      "92718.01\n",
      "0.0\n"
     ]
    },
    {
     "data": {
      "image/png": "[encoded data removed]",
      "text/plain": [
       "<Figure size 640x480 with 1 Axes>"
      ]
     },
     "metadata": {},
     "output_type": "display_data"
    }
   ],
   "source": [
    "plot_histogram(results_df['APE_CNNLSTM'], 2, 50)\n",
    "print(results_df['APE_CNNLSTM'].mean())\n",
    "print(results_df['APE_CNNLSTM'].median())\n",
    "print(results_df['APE_CNNLSTM'].max())\n",
    "print(results_df['APE_CNNLSTM'].min())"
   ]
  },
  {
   "cell_type": "code",
   "execution_count": 95,
   "id": "dc2826a7",
   "metadata": {},
   "outputs": [],
   "source": [
    "results_df.to_csv('./data_for_report/LSTM_and_CNLS_results.csv')"
   ]
  },
  {
   "cell_type": "markdown",
   "id": "959af00c",
   "metadata": {},
   "source": [
    "----------------------------------\n",
    "----------------------------------\n",
    "----------------------------------\n",
    "----------------------------------\n",
    "----------------------------------"
   ]
  }
 ],
 "metadata": {
  "kernelspec": {
   "display_name": "Python 3 (ipykernel)",
   "language": "python",
   "name": "python3"
  },
  "language_info": {
   "codemirror_mode": {
    "name": "ipython",
    "version": 3
   },
   "file_extension": ".py",
   "mimetype": "text/x-python",
   "name": "python",
   "nbconvert_exporter": "python",
   "pygments_lexer": "ipython3",
   "version": "3.8.10"
  }
 },
 "nbformat": 4,
 "nbformat_minor": 5
}
